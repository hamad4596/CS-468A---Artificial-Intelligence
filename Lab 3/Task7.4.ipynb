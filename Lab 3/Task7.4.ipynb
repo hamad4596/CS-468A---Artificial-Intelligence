{
 "cells": [
  {
   "cell_type": "markdown",
   "id": "4c3ff5eb",
   "metadata": {},
   "source": [
    "# 7.4 Alphabetic Telephone Number Translator\n",
    "Many companies use telephone numbers like 555-GET-FOOD so the number is easier for their\n",
    "customers to remember. On a standard telephone, the alphabetic letters are mapped to numbers\n",
    "in the following fashion:\n",
    "Letters Number\n",
    "A, B, and C 2\n",
    "D, E, and F 3\n",
    "G, H, and I 4\n",
    "J, K, and L 5\n",
    "M, N, and O 6\n",
    "P, Q, R, and S 7\n",
    "T, U, and V 8\n",
    "W, X, Y, and Z 9\n",
    "Write a program that asks the user to enter a 10-character telephone number in the format XXX\u0002XXX-XXXX. The application should display the telephone number with any alphabetic characters\n",
    "that appeared in the original translated to their numeric equivalent. For example, if the user enters\n",
    "555-GET-FOOD the application should display 555-438-3663."
   ]
  },
  {
   "cell_type": "code",
   "execution_count": 4,
   "id": "dca03a97",
   "metadata": {},
   "outputs": [
    {
     "name": "stdout",
     "output_type": "stream",
     "text": [
      "Enter 10 digit Telephone Number in the format of 555-GET-FOOD : 555-GET-FOOD\n",
      "555-438-3663\n"
     ]
    }
   ],
   "source": [
    "tel_number = input(\"Enter 10 digit Telephone Number in the format of 555-GET-FOOD : \")\n",
    "\n",
    "while(len(tel_number)!= 12):\n",
    "    \n",
    "    print(\"Please enter 10 digit TelPhone Number in the format of 555-GET-FOOD : \")\n",
    "    tel_number = input()\n",
    "    \n",
    "my_dictionary = dict();\n",
    "my_dictionary[\"A\"] = \"2\"\n",
    "my_dictionary[\"B\"] = \"2\"\n",
    "my_dictionary[\"C\"] = \"2\"\n",
    "my_dictionary[\"D\"] = \"3\"\n",
    "my_dictionary[\"E\"] = \"3\"\n",
    "my_dictionary[\"F\"] = \"3\"\n",
    "my_dictionary[\"G\"] = \"4\"\n",
    "my_dictionary[\"H\"] = \"4\"\n",
    "my_dictionary[\"I\"] = \"4\"\n",
    "my_dictionary[\"J\"] = \"5\"\n",
    "my_dictionary[\"K\"] = \"5\"\n",
    "my_dictionary[\"L\"] = \"5\"\n",
    "my_dictionary[\"M\"] = \"6\"\n",
    "my_dictionary[\"N\"] = \"6\"\n",
    "my_dictionary[\"O\"] = \"6\"\n",
    "my_dictionary[\"P\"] = \"7\"\n",
    "my_dictionary[\"Q\"] = \"7\"\n",
    "my_dictionary[\"R\"] = \"7\"\n",
    "my_dictionary[\"S\"] = \"7\"\n",
    "my_dictionary[\"T\"] = \"8\"\n",
    "my_dictionary[\"U\"] = \"8\"\n",
    "my_dictionary[\"V\"] = \"8\"\n",
    "my_dictionary[\"W\"] = \"9\"\n",
    "my_dictionary[\"X\"] = \"9\"\n",
    "my_dictionary[\"Y\"] = \"9\"\n",
    "my_dictionary[\"Z\"] = \"9\"\n",
    "my_dictionary[\"-\"] = \"-\"\n",
    "   \n",
    "concat_string = \"555\"\n",
    "\n",
    "for ch in range(len(tel_number)-9 , len(tel_number)):\n",
    "        \n",
    "    if(tel_number[ch] in my_dictionary):\n",
    "        concat_string += my_dictionary[tel_number[ch]]\n",
    "        \n",
    "        \n",
    "#         print(tel_number[ch])\n",
    "        \n",
    "#         concat_string[ch] +=  \n",
    "    \n",
    "#     elif(tel_number[ch] == 'A' or tel_number[ch] == 'B' or tel_number[ch] == 'C'):\n",
    "#         concat_string[ch] += \"2\"\n",
    "        \n",
    "#     elif(tel_number[ch] == 'D' or tel_number[ch] == 'E' or tel_number[ch] == 'F'):\n",
    "#         concat_string[ch] += \"3\"\n",
    "        \n",
    "#     elif(tel_number[ch] == 'G' or tel_number[ch] == 'H' or tel_number[ch] == 'I'):\n",
    "#         concat_string[ch] += my_dictionary[tel_number[ch]]\n",
    "        \n",
    "#     elif(tel_number[ch] == 'J' or tel_number[ch] == 'K' or tel_number[ch] == 'L'):\n",
    "#         concat_string[ch] += \"5\"\n",
    "        \n",
    "#     elif(tel_number[ch] == 'M' or tel_number[ch] == 'N' or tel_number[ch] == 'O'):\n",
    "#         concat_string[ch] += \"6\"    \n",
    "        \n",
    "#     elif(tel_number[ch] == 'P' or tel_number[ch] == 'Q' or tel_number[ch] == 'R' or tel_number[ch] == 'S'):\n",
    "#         concat_string[ch] += \"7\" \n",
    "        \n",
    "#     elif(tel_number[ch] == 'T' or tel_number[ch] == 'U' or tel_number[ch] == 'V'):\n",
    "#         concat_string[ch] += \"8\"  \n",
    "        \n",
    "#     elif(tel_number[ch] == 'W' or tel_number[ch] == 'X' or tel_number[ch] == 'Y' or tel_number[ch] == 'Z'):\n",
    "#         concat_string[ch] += \"9\" \n",
    "        \n",
    "tel_number = concat_string        \n",
    "print(tel_number)        "
   ]
  },
  {
   "cell_type": "code",
   "execution_count": null,
   "id": "276670e7",
   "metadata": {},
   "outputs": [],
   "source": []
  },
  {
   "cell_type": "code",
   "execution_count": null,
   "id": "f3506e14",
   "metadata": {},
   "outputs": [],
   "source": []
  }
 ],
 "metadata": {
  "kernelspec": {
   "display_name": "Python 3",
   "language": "python",
   "name": "python3"
  },
  "language_info": {
   "codemirror_mode": {
    "name": "ipython",
    "version": 3
   },
   "file_extension": ".py",
   "mimetype": "text/x-python",
   "name": "python",
   "nbconvert_exporter": "python",
   "pygments_lexer": "ipython3",
   "version": "3.8.8"
  }
 },
 "nbformat": 4,
 "nbformat_minor": 5
}
