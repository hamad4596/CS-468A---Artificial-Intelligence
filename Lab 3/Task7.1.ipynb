{
 "cells": [
  {
   "cell_type": "markdown",
   "id": "c1ada6b1",
   "metadata": {},
   "source": [
    "# 7.1 Sum of Digits in a String\n",
    "Write a program that asks the user to enter a series of single-digit numbers with nothing separating\n",
    "them. The program should display the sum of all the single digit numbers in the string. For\n",
    "example, if the user enters 2514, the method should return 12, which is the sum of 2, 5, 1, and 4."
   ]
  },
  {
   "cell_type": "code",
   "execution_count": 21,
   "id": "3d76e923",
   "metadata": {},
   "outputs": [
    {
     "name": "stdout",
     "output_type": "stream",
     "text": [
      "Enter any Number :789\n",
      "Sum of the number is :  24\n"
     ]
    }
   ],
   "source": [
    "string_number = input(\"Enter any Number :\")\n",
    "size = len(string_number)\n",
    "sum = 0\n",
    "\n",
    "for ch in range(size):\n",
    "    sum += int(string_number[ch]);\n",
    "    \n",
    "print(\"Sum of the number is : \",sum);    "
   ]
  }
 ],
 "metadata": {
  "kernelspec": {
   "display_name": "Python 3",
   "language": "python",
   "name": "python3"
  },
  "language_info": {
   "codemirror_mode": {
    "name": "ipython",
    "version": 3
   },
   "file_extension": ".py",
   "mimetype": "text/x-python",
   "name": "python",
   "nbconvert_exporter": "python",
   "pygments_lexer": "ipython3",
   "version": "3.8.8"
  }
 },
 "nbformat": 4,
 "nbformat_minor": 5
}
