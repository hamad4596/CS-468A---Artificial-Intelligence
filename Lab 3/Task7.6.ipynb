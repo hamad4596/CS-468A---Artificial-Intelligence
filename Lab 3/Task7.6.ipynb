{
 "cells": [
  {
   "cell_type": "markdown",
   "id": "139ca6cb",
   "metadata": {},
   "source": [
    "# 7.6 Sentence Capitalizer\n",
    "Write a program with a function that accepts a string as an argument and returns a copy of the\n",
    "string with the first character of each sentence capitalized. For instance, if the argument is “hello.\n",
    "my name is Joe. what is your name?” the function should return the string “Hello. My name is\n",
    "Joe. What is your name?” The program should let the user enter a string and then pass it to the\n",
    "function. The modified string should be displayed."
   ]
  },
  {
   "cell_type": "code",
   "execution_count": 28,
   "id": "e90696c2",
   "metadata": {},
   "outputs": [
    {
     "name": "stdout",
     "output_type": "stream",
     "text": [
      "Enter any String : hello. my name is Hamad. what are you doing?\n",
      "1\n",
      "1\n",
      "Hello. My name is Hamad. What are you doing?\n"
     ]
    }
   ],
   "source": [
    "def capitalized(type1):\n",
    "    print(type1)\n",
    "    \n",
    "    \n",
    "original_string = input(\"Enter any String : \")\n",
    "size = len(original_string)\n",
    "temp = \"\"\n",
    "capital_text = \"\"\n",
    "\n",
    "temp += original_string[0].capitalize();\n",
    "\n",
    "for ch in  range(1,size):\n",
    "     \n",
    "    if(original_string[ch] == \".\" or original_string[ch] == \"?\"):\n",
    "        \n",
    "        i = 1\n",
    "        \n",
    "        temp+= original_string[ch]\n",
    "        \n",
    "        if ((ch+1) < size and (ch+2) < size):\n",
    "            \n",
    "            while(original_string[ch+i] == \" \"):\n",
    "                \n",
    "                capital_text += original_string[ch+2].capitalize()\n",
    "                i = i+1;\n",
    "               \n",
    "    else:\n",
    "        if(capital_text == original_string[ch].capitalize()):\n",
    "            temp += capital_text\n",
    "            capital_text = \"\"\n",
    "        else:\n",
    "            temp += original_string[ch]\n",
    "    \n",
    "capitalized(temp)"
   ]
  },
  {
   "cell_type": "code",
   "execution_count": null,
   "id": "ecb36b45",
   "metadata": {},
   "outputs": [],
   "source": []
  }
 ],
 "metadata": {
  "kernelspec": {
   "display_name": "Python 3",
   "language": "python",
   "name": "python3"
  },
  "language_info": {
   "codemirror_mode": {
    "name": "ipython",
    "version": 3
   },
   "file_extension": ".py",
   "mimetype": "text/x-python",
   "name": "python",
   "nbconvert_exporter": "python",
   "pygments_lexer": "ipython3",
   "version": "3.8.8"
  }
 },
 "nbformat": 4,
 "nbformat_minor": 5
}
