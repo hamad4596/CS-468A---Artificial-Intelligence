{
 "cells": [
  {
   "cell_type": "markdown",
   "id": "7d7fe2e4",
   "metadata": {},
   "source": [
    "# 7.2 Morse Code Converter\n",
    "Morse code is a code where each letter of the English alphabet, each digit, and various punctuation\n",
    "characters are represented by a series of dots and dashes. Table 8-4 shows part of the code. Write\n",
    "a program that asks the user to enter a string, and then converts that string to Morse code."
   ]
  },
  {
   "cell_type": "code",
   "execution_count": 3,
   "id": "230d7323",
   "metadata": {},
   "outputs": [
    {
     "name": "stdout",
     "output_type": "stream",
     "text": [
      "Enter any String : HELLO\n",
      ".... . .-.. .-.. --- "
     ]
    }
   ],
   "source": [
    "original_string = input(\"Enter any String : \")\n",
    "\n",
    "my_dictionary = dict();\n",
    "my_dictionary[\" \"] = \" \"\n",
    "my_dictionary[\",\"] = \"--..--\"\n",
    "my_dictionary[\"?\"] = \"..--..\"\n",
    "my_dictionary[\"0\"] = \"-----\"\n",
    "my_dictionary[\"1\"] = \".----\"\n",
    "my_dictionary[\"2\"] = \"..---\"\n",
    "my_dictionary[\"3\"] = \"...--\"\n",
    "my_dictionary[\"4\"] = \"....-\"\n",
    "my_dictionary[\"5\"] = \".....\"\n",
    "my_dictionary[\"6\"] = \"-....\"\n",
    "my_dictionary[\"7\"] = \"--...\"\n",
    "my_dictionary[\"8\"] = \"---..\"\n",
    "my_dictionary[\"9\"] = \"----.\"\n",
    "my_dictionary[\"A\"] = \".-\"\n",
    "my_dictionary[\"B\"] = \"-...\"\n",
    "my_dictionary[\"C\"] = \"-.-.\"\n",
    "my_dictionary[\"D\"] = \"-..\"\n",
    "my_dictionary[\"E\"] = \".\"\n",
    "my_dictionary[\"F\"] = \"..-.\"\n",
    "my_dictionary[\"G\"] = \"--.\"\n",
    "my_dictionary[\"H\"] = \"....\"\n",
    "my_dictionary[\"I\"] = \"..\"\n",
    "my_dictionary[\"J\"] = \".---\"\n",
    "my_dictionary[\"K\"] = \"-.-\"\n",
    "my_dictionary[\"L\"] = \".-..\"\n",
    "my_dictionary[\"M\"] = \"--\"\n",
    "my_dictionary[\"N\"] = \" -.\"\n",
    "my_dictionary[\"O\"] = \"---\"\n",
    "my_dictionary[\"P\"] = \".--.\"\n",
    "my_dictionary[\"Q\"] = \"--.-\"\n",
    "my_dictionary[\"R\"] = \".-.\"\n",
    "my_dictionary[\"S\"] = \"...\"\n",
    "my_dictionary[\"T\"] = \"-\"\n",
    "my_dictionary[\"U\"] = \"..-\"\n",
    "my_dictionary[\"V\"] = \"...-\"\n",
    "my_dictionary[\"W\"] = \".--\"\n",
    "my_dictionary[\"X\"] = \"-..-\"\n",
    "my_dictionary[\"Y\"] = \"-.-\"\n",
    "my_dictionary[\"Z\"] = \"--..\"\n",
    "\n",
    "for ch in range(len(original_string)):\n",
    "    \n",
    "    if(original_string[ch] in my_dictionary):\n",
    "        \n",
    "        print(my_dictionary[original_string[ch]],end=\" \")\n"
   ]
  }
 ],
 "metadata": {
  "kernelspec": {
   "display_name": "Python 3",
   "language": "python",
   "name": "python3"
  },
  "language_info": {
   "codemirror_mode": {
    "name": "ipython",
    "version": 3
   },
   "file_extension": ".py",
   "mimetype": "text/x-python",
   "name": "python",
   "nbconvert_exporter": "python",
   "pygments_lexer": "ipython3",
   "version": "3.8.8"
  }
 },
 "nbformat": 4,
 "nbformat_minor": 5
}
