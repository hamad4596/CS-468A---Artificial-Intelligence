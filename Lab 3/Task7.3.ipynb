{
 "cells": [
  {
   "cell_type": "markdown",
   "id": "4a0db52d",
   "metadata": {},
   "source": [
    "# 7.3 Reverse Incremental String Slicing\n",
    "Sometimes, while working with Pythonn strings, we can have a problem in which we need to perform\n",
    "the slice and print of strings in reverse order. This can have application in day-day programming.\n",
    "So in this exercise write a program that reverse the string in incremental order."
   ]
  },
  {
   "cell_type": "code",
   "execution_count": 1,
   "id": "73bfaa8d",
   "metadata": {},
   "outputs": [
    {
     "name": "stdout",
     "output_type": "stream",
     "text": [
      "Enter any String : GIFT\n",
      "T , TF , TFI , TFIG , "
     ]
    }
   ],
   "source": [
    "original_string = input(\"Enter any String : \")\n",
    "size = len(original_string) - 1\n",
    "concat_string = \"\"\n",
    "\n",
    "for ch in range(size + 1):\n",
    "    concat_string += original_string[size - ch]\n",
    "    print(concat_string , end=\" , \")"
   ]
  },
  {
   "cell_type": "code",
   "execution_count": null,
   "id": "cb503f5a",
   "metadata": {},
   "outputs": [],
   "source": []
  }
 ],
 "metadata": {
  "kernelspec": {
   "display_name": "Python 3",
   "language": "python",
   "name": "python3"
  },
  "language_info": {
   "codemirror_mode": {
    "name": "ipython",
    "version": 3
   },
   "file_extension": ".py",
   "mimetype": "text/x-python",
   "name": "python",
   "nbconvert_exporter": "python",
   "pygments_lexer": "ipython3",
   "version": "3.8.8"
  }
 },
 "nbformat": 4,
 "nbformat_minor": 5
}
