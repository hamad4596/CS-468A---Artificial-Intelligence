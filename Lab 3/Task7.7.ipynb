{
 "cells": [
  {
   "cell_type": "markdown",
   "id": "c81e7b05",
   "metadata": {},
   "source": [
    "# 7.7 Pig Latin\n",
    "Write a program that accepts a sentence as input and converts each word to “Pig Latin.” In one\n",
    "version, to convert a word to Pig Latin you remove the first letter and place that letter at the end\n",
    "of the word. Then you append the string “ay” to the word. Here is an example:\n",
    "English: I SLEPT MOST OF THE NIGHT\n",
    "Pig Latin: IAY LEPTSAY OSTMAY FOAY HETAY IGHTNAY"
   ]
  },
  {
   "cell_type": "code",
   "execution_count": 14,
   "id": "76e84c26",
   "metadata": {},
   "outputs": [
    {
     "name": "stdout",
     "output_type": "stream",
     "text": [
      "Enter any Sentence : I SLEPT MOST OF THE NIGHT.\n",
      "PIG LATIN :  IAY LEPTSAY OSTMAY FOAY HETAY IGHTNAY \n"
     ]
    }
   ],
   "source": [
    "original_sentence = input(\"Enter any Sentence : \")\n",
    "\n",
    "concat = \"\"\n",
    "\n",
    "for ch in range(1 , len(original_sentence)):\n",
    "    \n",
    "    i = 1\n",
    "    remove_ch = \"\"\n",
    "    \n",
    "    if(original_sentence[ch] == \" \"):\n",
    "     \n",
    "        while(original_sentence[ch+i] != \".\"  and original_sentence[ch+i] != \" \"):\n",
    "            \n",
    "            remove_ch = original_sentence[ch+1]\n",
    "            \n",
    "            if(original_sentence[ch+i+1] !=  \".\" and original_sentence[ch+i+1] !=  \" \"):\n",
    "                concat+= original_sentence[ch+i+1]\n",
    "                \n",
    "            i = i+1\n",
    "             \n",
    "        concat += remove_ch\n",
    "        concat += \"AY \"\n",
    "        \n",
    "print(\"PIG LATIN : \",concat)         "
   ]
  },
  {
   "cell_type": "code",
   "execution_count": null,
   "id": "d74b6aa3",
   "metadata": {},
   "outputs": [],
   "source": []
  }
 ],
 "metadata": {
  "kernelspec": {
   "display_name": "Python 3",
   "language": "python",
   "name": "python3"
  },
  "language_info": {
   "codemirror_mode": {
    "name": "ipython",
    "version": 3
   },
   "file_extension": ".py",
   "mimetype": "text/x-python",
   "name": "python",
   "nbconvert_exporter": "python",
   "pygments_lexer": "ipython3",
   "version": "3.8.8"
  }
 },
 "nbformat": 4,
 "nbformat_minor": 5
}
