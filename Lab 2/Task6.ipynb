{
 "cells": [
  {
   "cell_type": "markdown",
   "id": "45af6fed",
   "metadata": {},
   "source": [
    "# 7.6 Body Mass Index\n",
    "Write a program that calculates and displays a person’s body mass index (BMI). The BMI is often\n",
    "used to determine whether a person is overweight or underweight for his or her height. A person’s\n",
    "BMI is calculated with the following formula:"
   ]
  },
  {
   "cell_type": "code",
   "execution_count": 7,
   "id": "61b825c8",
   "metadata": {},
   "outputs": [
    {
     "name": "stdout",
     "output_type": "stream",
     "text": [
      "Enter the height in inches : 164\n",
      "enter the weight in pounds : 158\n",
      "Person is underweight.\n"
     ]
    }
   ],
   "source": [
    "height = float(input(\"Enter the height in inches : \"));\n",
    "weight = float(input(\"enter the weight in pounds : \"));\n",
    "\n",
    "bmi =  (weight*703)/(height**2);\n",
    "\n",
    "if(bmi < 18.5):\n",
    "    print(\"Person is underweight.\");\n",
    "    \n",
    "elif(bmi >= 18.5 and bmi <= 25):\n",
    "    print(\"Weightis optimal.\");\n",
    "    \n",
    "elif(bmi > 25):\n",
    "    print(\"Body is overweight.\");"
   ]
  },
  {
   "cell_type": "code",
   "execution_count": null,
   "id": "70d602ea",
   "metadata": {},
   "outputs": [],
   "source": []
  }
 ],
 "metadata": {
  "kernelspec": {
   "display_name": "Python 3",
   "language": "python",
   "name": "python3"
  },
  "language_info": {
   "codemirror_mode": {
    "name": "ipython",
    "version": 3
   },
   "file_extension": ".py",
   "mimetype": "text/x-python",
   "name": "python",
   "nbconvert_exporter": "python",
   "pygments_lexer": "ipython3",
   "version": "3.8.8"
  }
 },
 "nbformat": 4,
 "nbformat_minor": 5
}
