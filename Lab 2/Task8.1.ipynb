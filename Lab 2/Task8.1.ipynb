{
 "cells": [
  {
   "cell_type": "markdown",
   "id": "c8cfac2a",
   "metadata": {},
   "source": [
    "\n",
    "# 8.1 Budget Analysis\n",
    "Write a program that asks the user to enter the amount that he or she has budgeted for a month.\n",
    "A loop should then prompt the user to enter each of his or her expenses for the month and keep\n",
    "a running total. When the loop finishes, the program should display the amount that the user is\n",
    "over or under budget."
   ]
  },
  {
   "cell_type": "code",
   "execution_count": 4,
   "id": "8a4ba493",
   "metadata": {},
   "outputs": [
    {
     "name": "stdout",
     "output_type": "stream",
     "text": [
      "Enter the Budget : 500\n",
      "Enter the expense : 100\n",
      "Enter the expense : 200\n",
      "Enter the expense : 600\n",
      "Budget is over.\n"
     ]
    }
   ],
   "source": [
    "budget = float(input(\"Enter the Budget : \"))\n",
    "\n",
    "total_expense = 0;\n",
    "\n",
    "for expenses in range(0 , 3):\n",
    "    \n",
    "    expense = float(input(\"Enter the expense : \"))\n",
    "    total_expense += expense\n",
    "    \n",
    "if(total_expense > budget):\n",
    "    print(\"Budget is over.\")\n",
    "    \n",
    "else:\n",
    "    print(\"Under Budget.\")"
   ]
  },
  {
   "cell_type": "code",
   "execution_count": null,
   "id": "8412f9ea",
   "metadata": {},
   "outputs": [],
   "source": []
  }
 ],
 "metadata": {
  "kernelspec": {
   "display_name": "Python 3",
   "language": "python",
   "name": "python3"
  },
  "language_info": {
   "codemirror_mode": {
    "name": "ipython",
    "version": 3
   },
   "file_extension": ".py",
   "mimetype": "text/x-python",
   "name": "python",
   "nbconvert_exporter": "python",
   "pygments_lexer": "ipython3",
   "version": "3.8.8"
  }
 },
 "nbformat": 4,
 "nbformat_minor": 5
}
