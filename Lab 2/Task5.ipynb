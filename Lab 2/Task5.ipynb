{
 "cells": [
  {
   "cell_type": "markdown",
   "id": "c8f4f907",
   "metadata": {},
   "source": [
    "# 7.5 Shipping Charges\n",
    "The Fast Freight Shipping Company charges the following rates:\n",
    "Weight of Package Rate per Pound (Dollar)\n",
    "2 pounds or less 1.50\n",
    "Over 2 pounds but not more than 6 pounds 3.00\n",
    "Over 6 pounds but not more than 10 pounds 4.00\n",
    "Over 10 pounds 4.75\n",
    "Write a program that asks the user to enter the weight of a package and then displays the shipping\n",
    "charges"
   ]
  },
  {
   "cell_type": "code",
   "execution_count": 15,
   "id": "e9cc952f",
   "metadata": {},
   "outputs": [
    {
     "name": "stdout",
     "output_type": "stream",
     "text": [
      "Weight of package : 23\n",
      "Weight charges is :  109.25\n"
     ]
    }
   ],
   "source": [
    "weight_of_package = float(input(\"Weight of package : \"));\n",
    "\n",
    "if(weight_of_package <= 2):\n",
    "    print(\"Weight charges is : \", weight_of_package*1.50);\n",
    "    \n",
    "elif(weight_of_package > 2 and weight_of_package <= 6):\n",
    "    print(\"Weight charges is : \", weight_of_package*3.00);\n",
    "    \n",
    "elif(weight_of_package > 6 and weight_of_package <= 10):\n",
    "    print(\"Weight charges is : \", weight_of_package*4.00); \n",
    "    \n",
    "elif(weight_of_package > 10):\n",
    "    print(\"Weight charges is : \", weight_of_package*4.75);    "
   ]
  },
  {
   "cell_type": "code",
   "execution_count": null,
   "id": "cf3b9815",
   "metadata": {},
   "outputs": [],
   "source": []
  }
 ],
 "metadata": {
  "kernelspec": {
   "display_name": "Python 3",
   "language": "python",
   "name": "python3"
  },
  "language_info": {
   "codemirror_mode": {
    "name": "ipython",
    "version": 3
   },
   "file_extension": ".py",
   "mimetype": "text/x-python",
   "name": "python",
   "nbconvert_exporter": "python",
   "pygments_lexer": "ipython3",
   "version": "3.8.8"
  }
 },
 "nbformat": 4,
 "nbformat_minor": 5
}
