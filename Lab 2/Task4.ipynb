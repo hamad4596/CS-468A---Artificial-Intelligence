{
 "cells": [
  {
   "cell_type": "markdown",
   "id": "bfb2b4b0",
   "metadata": {},
   "source": [
    "# 7.4 Software Sales\n",
    "A software company sells a package that retails for $99. Quantity discounts are given according to\n",
    "the following table:\n",
    "Quantity Discount\n",
    "10–19 10%\n",
    "20–49 20%\n",
    "50–99 30%\n",
    "100 or more 40%\n",
    "Write a program that asks the user to enter the number of packages purchased. The program\n",
    "should then display the amount of the discount (if any) and the total amount of the purchase after\n",
    "the discount."
   ]
  },
  {
   "cell_type": "code",
   "execution_count": 5,
   "id": "9364b157",
   "metadata": {},
   "outputs": [
    {
     "name": "stdout",
     "output_type": "stream",
     "text": [
      "Enter the number of packages purchased : 35\n",
      "Total amount of purchase after discount :  3118.5\n"
     ]
    }
   ],
   "source": [
    "package_purchased = int(input(\"Enter the number of packages purchased : \"));\n",
    "\n",
    "if(package_purchased > 10 & package_purchased < 19):\n",
    "    print(\"Total amount of purchase after discount : \", (package_purchased*99) - ((package_purchased*99) / 100) * 10);\n",
    "    \n",
    "elif(package_purchased > 20 & package_purchased < 49):\n",
    "    print(\"Total amount of purchase after discount : \", (package_purchased*99) - ((package_purchased*99) / 100) * 20);\n",
    "    \n",
    "elif(package_purchased > 50 & package_purchased < 99):\n",
    "    print(\"Total amount of purchase after discount : \", (package_purchased*99) - ((package_purchased*99) / 100) * 30);\n",
    "    \n",
    "elif(package_purchased > 100):\n",
    "    print(\"Total amount of purchase after discount : \", (package_purchased*99) - ((package_purchased*99) / 100) * 40);\n",
    "    \n",
    "        "
   ]
  },
  {
   "cell_type": "code",
   "execution_count": null,
   "id": "e7288a1a",
   "metadata": {},
   "outputs": [],
   "source": []
  }
 ],
 "metadata": {
  "kernelspec": {
   "display_name": "Python 3",
   "language": "python",
   "name": "python3"
  },
  "language_info": {
   "codemirror_mode": {
    "name": "ipython",
    "version": 3
   },
   "file_extension": ".py",
   "mimetype": "text/x-python",
   "name": "python",
   "nbconvert_exporter": "python",
   "pygments_lexer": "ipython3",
   "version": "3.8.8"
  }
 },
 "nbformat": 4,
 "nbformat_minor": 5
}
