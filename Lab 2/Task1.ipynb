{
 "cells": [
  {
   "cell_type": "markdown",
   "id": "9b256718",
   "metadata": {},
   "source": [
    "# 7.1 Mass and Weight\n",
    "Scientists measure an object’s mass in kilograms and its weight in newtons. If you know the amount\n",
    "of mass of an object in kilograms, you can calculate its weight in newtons with the following formula:\n",
    "**\n",
    "weight = mass * 3 9.8\n",
    "** Write a program that asks the user to enter an object’s mass, and then calculates its weight. If\n",
    "the object weighs more than 500 newtons, display a message indicating that it is too heavy. If the\n",
    "object weighs less than 100 newtons, display a message indicating that it is too light."
   ]
  },
  {
   "cell_type": "code",
   "execution_count": 4,
   "id": "842533b7",
   "metadata": {},
   "outputs": [
    {
     "name": "stdout",
     "output_type": "stream",
     "text": [
      "Enter the body mass : 1\n",
      "Weigth is too light\n"
     ]
    }
   ],
   "source": [
    "mass = float(input(\"Enter the body mass : \"));\n",
    "\n",
    "weight = mass * 9.8066500286389;\n",
    "\n",
    "if(weight > 500):\n",
    "    print(\"Weight is too heavy.\");\n",
    "elif(weight < 100):\n",
    "    print(\"Weigth is too light\");\n",
    "else:\n",
    "    print(\"Weight is not greater than 500 newton or nor less than 100 newton.\");"
   ]
  }
 ],
 "metadata": {
  "kernelspec": {
   "display_name": "Python 3",
   "language": "python",
   "name": "python3"
  },
  "language_info": {
   "codemirror_mode": {
    "name": "ipython",
    "version": 3
   },
   "file_extension": ".py",
   "mimetype": "text/x-python",
   "name": "python",
   "nbconvert_exporter": "python",
   "pygments_lexer": "ipython3",
   "version": "3.8.8"
  }
 },
 "nbformat": 4,
 "nbformat_minor": 5
}
