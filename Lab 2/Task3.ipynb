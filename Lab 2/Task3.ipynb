{
 "cells": [
  {
   "cell_type": "markdown",
   "id": "483fcbcd",
   "metadata": {},
   "source": [
    "# 7.3 Miles Per Gallon\n",
    "Drivers are concerned with the mileage obtained by their automobiles. One driver has kept track\n",
    "of several tankfuls of gasoline by recording miles driven and gallons used for each tankful. Develop\n",
    "a sentinel-controlled-repetition script that prompts the user to input the miles driven and gallons\n",
    "used for each tankful. The script should calculate and display the miles per gallon obtained for\n",
    "each tankful. After processing all input information, the script should calculate and display the\n",
    "combined miles per gallon obtained for all tankfuls (that is, total miles driven divided by total\n",
    "gallons used)."
   ]
  },
  {
   "cell_type": "code",
   "execution_count": 2,
   "id": "9b1da317",
   "metadata": {},
   "outputs": [
    {
     "name": "stdout",
     "output_type": "stream",
     "text": [
      "Enter the gallon used (-1 to end) : 23\n",
      "Enter the miles driven : 345\n",
      "The miles/gallon for this tank was :  15.0\n",
      "Enter the gallon used (-1 to end) : 21\n",
      "Enter the miles driven : 345\n",
      "The miles/gallon for this tank was :  16.428571428571427\n",
      "Enter the gallon used (-1 to end) : -1\n",
      "The overall average miles/gallon was :  15.714285714285714\n"
     ]
    }
   ],
   "source": [
    "count = 0;\n",
    "count1 = 0;\n",
    "for i in range(5):\n",
    "    gallons = float(input(\"Enter the gallon used (-1 to end) : \"));\n",
    "   \n",
    "    if(gallons != -1):\n",
    "        miles = float(input(\"Enter the miles driven : \"));\n",
    "        overall = miles / gallons;\n",
    "        print(\"The miles/gallon for this tank was : \", miles / gallons);\n",
    "        count+= overall;\n",
    "        count1+= 1;\n",
    "        \n",
    "    elif(gallons == -1):\n",
    "        print(\"The overall average miles/gallon was : \",count / count1);\n",
    "        break;\n",
    "    "
   ]
  },
  {
   "cell_type": "markdown",
   "id": "a4b1aa4f",
   "metadata": {},
   "source": [
    "### "
   ]
  }
 ],
 "metadata": {
  "kernelspec": {
   "display_name": "Python 3",
   "language": "python",
   "name": "python3"
  },
  "language_info": {
   "codemirror_mode": {
    "name": "ipython",
    "version": 3
   },
   "file_extension": ".py",
   "mimetype": "text/x-python",
   "name": "python",
   "nbconvert_exporter": "python",
   "pygments_lexer": "ipython3",
   "version": "3.8.8"
  }
 },
 "nbformat": 4,
 "nbformat_minor": 5
}
