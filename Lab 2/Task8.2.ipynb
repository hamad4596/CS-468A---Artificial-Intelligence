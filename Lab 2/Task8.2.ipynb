{
 "cells": [
  {
   "cell_type": "markdown",
   "id": "0c249ee2",
   "metadata": {},
   "source": [
    "# Write a program that uses nested loops to collect data and calculate the \n",
    "\n",
    "average rainfall over a\n",
    "period of years. The program should first ask for the number of years. The outer loop will iterate\n",
    "once for each year. The inner loop will iterate twelve times, once for each month. Each iteration\n",
    "of the inner loop will ask the user for the inches of rainfall for that month. After all iterations, the\n",
    "program should display the number of months, the total inches of rainfall, and the average rainfall\n",
    "per month for the entire period."
   ]
  },
  {
   "cell_type": "code",
   "execution_count": 5,
   "id": "63d537c7",
   "metadata": {},
   "outputs": [
    {
     "name": "stdout",
     "output_type": "stream",
     "text": [
      "Enter the number of years : 2\n",
      "Enter the inches of rainfall per month : 4\n",
      "Enter the inches of rainfall per month : 5\n",
      "Enter the inches of rainfall per month : 5\n",
      "Enter the inches of rainfall per month : 5\n",
      "Enter the inches of rainfall per month : 5\n",
      "Enter the inches of rainfall per month : 5\n",
      "Enter the inches of rainfall per month : 5\n",
      "Enter the inches of rainfall per month : 5\n",
      "Enter the inches of rainfall per month : 5\n",
      "Enter the inches of rainfall per month : 5\n",
      "Enter the inches of rainfall per month : 5\n",
      "Enter the inches of rainfall per month : 5\n",
      "Enter the inches of rainfall per month : 5\n",
      "Enter the inches of rainfall per month : 5\n",
      "Enter the inches of rainfall per month : 5\n",
      "Enter the inches of rainfall per month : 5\n",
      "Enter the inches of rainfall per month : 5\n",
      "Enter the inches of rainfall per month : 5\n",
      "Enter the inches of rainfall per month : 5\n",
      "Enter the inches of rainfall per month : 5\n",
      "Enter the inches of rainfall per month : 5\n",
      "Enter the inches of rainfall per month : 5\n",
      "Enter the inches of rainfall per month : 5\n",
      "Enter the inches of rainfall per month : 5\n",
      "Total number of Month is 24 .\n",
      "Total inches of Rainfall 119.0 .\n",
      "Average rainfall per month is :  4.958333333333333\n"
     ]
    }
   ],
   "source": [
    "number_years = int(input(\"Enter the number of years : \"))\n",
    "\n",
    "count = 0\n",
    "\n",
    "total_inches = 0\n",
    "\n",
    "for years in range(number_years):\n",
    "    \n",
    "    for months in range(12):\n",
    "        \n",
    "        rainfall_per_month = float(input(\"Enter the inches of rainfall per month : \"))\n",
    "        \n",
    "        total_inches += rainfall_per_month\n",
    "        \n",
    "        count += 1;\n",
    "        \n",
    "print(\"Total number of Month is {} .\".format(count))\n",
    "print(\"Total inches of Rainfall {} .\".format(total_inches))\n",
    "print(\"Average rainfall per month is : \", total_inches / count)"
   ]
  },
  {
   "cell_type": "code",
   "execution_count": null,
   "id": "a0397b05",
   "metadata": {},
   "outputs": [],
   "source": []
  },
  {
   "cell_type": "code",
   "execution_count": null,
   "id": "0d65b8de",
   "metadata": {},
   "outputs": [],
   "source": []
  }
 ],
 "metadata": {
  "kernelspec": {
   "display_name": "Python 3",
   "language": "python",
   "name": "python3"
  },
  "language_info": {
   "codemirror_mode": {
    "name": "ipython",
    "version": 3
   },
   "file_extension": ".py",
   "mimetype": "text/x-python",
   "name": "python",
   "nbconvert_exporter": "python",
   "pygments_lexer": "ipython3",
   "version": "3.8.8"
  }
 },
 "nbformat": 4,
 "nbformat_minor": 5
}
