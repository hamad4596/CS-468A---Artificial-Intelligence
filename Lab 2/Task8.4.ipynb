{
 "cells": [
  {
   "cell_type": "markdown",
   "id": "941f121c",
   "metadata": {},
   "source": [
    "# 8.4 Population\n",
    "Write a program that predicts the approximate size of a population of organisms. The application\n",
    "should allow the user to enter the starting number of organisms, the average daily population\n",
    "increase (as a percentage), and the number of days the organisms will be left to multiply. For\n",
    "example, assume the user enters the following values:"
   ]
  },
  {
   "cell_type": "code",
   "execution_count": 4,
   "id": "4ce1b6a0",
   "metadata": {},
   "outputs": [
    {
     "name": "stdout",
     "output_type": "stream",
     "text": [
      "Enter the Starting organism : 2\n",
      "Average daily increase : 30\n",
      "Number of days to multiply : 10\n",
      " 1   2\n",
      " 2   2.6\n",
      " 3   3.3800000000000003\n",
      " 4   4.394000000000001\n",
      " 5   5.712200000000002\n",
      " 6   7.425860000000003\n",
      " 7   9.653618000000003\n",
      " 8   12.549703400000006\n",
      " 9   16.31461442000001\n",
      " 10   21.208998746000013\n"
     ]
    }
   ],
   "source": [
    "starting_organism = int(input(\"Enter the Starting organism : \"))\n",
    "average_daily_increase = float(input(\"Average daily increase : \"))\n",
    "days = int(input(\"Number of days to multiply : \"))\n",
    "\n",
    "for day in range(1 , days+1):\n",
    "    if(day == 1):\n",
    "        population = starting_organism;\n",
    "        \n",
    "    else:\n",
    "        population *= (1+average_daily_increase/100);\n",
    "    \n",
    "    print(\" {}   {}\".format(day , population));"
   ]
  },
  {
   "cell_type": "code",
   "execution_count": null,
   "id": "03ee3c2f",
   "metadata": {},
   "outputs": [],
   "source": []
  }
 ],
 "metadata": {
  "kernelspec": {
   "display_name": "Python 3",
   "language": "python",
   "name": "python3"
  },
  "language_info": {
   "codemirror_mode": {
    "name": "ipython",
    "version": 3
   },
   "file_extension": ".py",
   "mimetype": "text/x-python",
   "name": "python",
   "nbconvert_exporter": "python",
   "pygments_lexer": "ipython3",
   "version": "3.8.8"
  }
 },
 "nbformat": 4,
 "nbformat_minor": 5
}
