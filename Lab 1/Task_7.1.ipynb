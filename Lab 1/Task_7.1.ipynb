{
 "cells": [
  {
   "cell_type": "code",
   "execution_count": 6,
   "id": "60e93b3e",
   "metadata": {},
   "outputs": [
    {
     "name": "stdout",
     "output_type": "stream",
     "text": [
      "Enter the purchase amount : 12\n",
      "State Sale Tax :  0.6\n",
      "County Sale Tax :  0.3\n",
      "Total Sales Tax :  0.8999999999999999\n",
      "Total of Sales :  12.9\n"
     ]
    }
   ],
   "source": [
    "purchase_amount = input(\"Enter the purchase amount : \");\n",
    "\n",
    "state_tax = (int(purchase_amount) / 100) * 5;\n",
    "print(\"State Sale Tax : \",state_tax);\n",
    "\n",
    "county_tax = (int(purchase_amount) / 100) * 2.5;\n",
    "print(\"County Sale Tax : \",county_tax);\n",
    "\n",
    "total_sales_tax = state_tax + county_tax;\n",
    "print(\"Total Sales Tax : \",total_sales_tax);\n",
    "\n",
    "total_of_sale = int(purchase_amount) + total_sales_tax;\n",
    "print(\"Total of Sales : \",total_of_sale);\n"
   ]
  },
  {
   "cell_type": "code",
   "execution_count": null,
   "id": "b87eaec9",
   "metadata": {},
   "outputs": [],
   "source": []
  }
 ],
 "metadata": {
  "kernelspec": {
   "display_name": "Python 3",
   "language": "python",
   "name": "python3"
  },
  "language_info": {
   "codemirror_mode": {
    "name": "ipython",
    "version": 3
   },
   "file_extension": ".py",
   "mimetype": "text/x-python",
   "name": "python",
   "nbconvert_exporter": "python",
   "pygments_lexer": "ipython3",
   "version": "3.8.8"
  }
 },
 "nbformat": 4,
 "nbformat_minor": 5
}
