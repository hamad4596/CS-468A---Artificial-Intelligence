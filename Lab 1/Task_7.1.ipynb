{
 "cells": [
  {
   "cell_type": "markdown",
   "id": "2fd84fec",
   "metadata": {},
   "source": [
    "# 7.1 Sales Tax\n",
    "Write a program that will ask the user to enter the amount of a purchase. The program should then\n",
    "compute the state and county sales tax. Assume the state sales tax is 5 percent and the county\n",
    "sales tax is 2.5 percent. The program should display the following: * The amount of the purchase\n",
    "* The state sales tax * The county sales tax * The total sales tax * and the total of the sale (which\n",
    "is the sum of the amount of purchase plus the total sales tax).\n"
   ]
  },
  {
   "cell_type": "code",
   "execution_count": null,
   "id": "3c18d695",
   "metadata": {},
   "outputs": [],
   "source": [
    "purchase_amount = input(\"Enter the purchase amount : \");\n",
    "\n",
    "state_tax = (int(purchase_amount) / 100) * 5;\n",
    "print(\"State Sale Tax : \",state_tax);\n",
    "\n",
    "county_tax = (int(purchase_amount) / 100) * 2.5;\n",
    "print(\"County Sale Tax : \",county_tax);\n",
    "\n",
    "total_sales_tax = state_tax + county_tax;\n",
    "print(\"Total Sales Tax : \",total_sales_tax);\n",
    "\n",
    "total_of_sale = int(purchase_amount) + total_sales_tax;\n",
    "print(\"Total of Sales : \",total_of_sale);"
   ]
  },
  {
   "cell_type": "code",
   "execution_count": null,
   "id": "b87eaec9",
   "metadata": {},
   "outputs": [],
   "source": []
  }
 ],
 "metadata": {
  "kernelspec": {
   "display_name": "Python 3",
   "language": "python",
   "name": "python3"
  },
  "language_info": {
   "codemirror_mode": {
    "name": "ipython",
    "version": 3
   },
   "file_extension": ".py",
   "mimetype": "text/x-python",
   "name": "python",
   "nbconvert_exporter": "python",
   "pygments_lexer": "ipython3",
   "version": "3.8.8"
  }
 },
 "nbformat": 4,
 "nbformat_minor": 5
}
