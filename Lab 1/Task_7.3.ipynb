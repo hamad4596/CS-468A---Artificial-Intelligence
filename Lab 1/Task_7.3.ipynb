{
 "cells": [
  {
   "cell_type": "markdown",
   "id": "18b555fc",
   "metadata": {},
   "source": [
    "# 7.3 Ingredient Adjuster\n",
    "A cookie recipe calls for the following ingredients: * 1.5 cups of sugar * 1 cup of butter * 2.75 cups\n",
    "of flour.\n",
    "The recipe produces 48 cookies with this amount of the ingredients. Write a program that asks\n",
    "the user how many cookies he or she wants to make, and then displays the number of cups of each\n",
    "ingredient needed for the specified number of cookies."
   ]
  },
  {
   "cell_type": "code",
   "execution_count": 6,
   "id": "719ca40d",
   "metadata": {},
   "outputs": [
    {
     "name": "stdout",
     "output_type": "stream",
     "text": [
      "How many cookies do you produce : 96\n",
      "You need cups of sugar is :  3.0\n",
      "You need cups of butter is :  2.0\n",
      "You need cups of flour is :  5.5\n"
     ]
    }
   ],
   "source": [
    "cookies_produce = input(\"How many cookies do you produce : \");\n",
    "\n",
    "cups_of_sugar = 1.5 / 48;\n",
    "\n",
    "cups_of_butter = 1 / 48;\n",
    "\n",
    "cups_of_flour = 2.75 / 48;\n",
    "\n",
    "print(\"You need cups of sugar is : \", float(cookies_produce) * cups_of_sugar);\n",
    "print(\"You need cups of butter is : \", float(cookies_produce) * cups_of_butter);\n",
    "print(\"You need cups of flour is : \", float(cookies_produce) * cups_of_flour);"
   ]
  }
 ],
 "metadata": {
  "kernelspec": {
   "display_name": "Python 3",
   "language": "python",
   "name": "python3"
  },
  "language_info": {
   "codemirror_mode": {
    "name": "ipython",
    "version": 3
   },
   "file_extension": ".py",
   "mimetype": "text/x-python",
   "name": "python",
   "nbconvert_exporter": "python",
   "pygments_lexer": "ipython3",
   "version": "3.8.8"
  }
 },
 "nbformat": 4,
 "nbformat_minor": 5
}
