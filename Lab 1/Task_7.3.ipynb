{
 "cells": [
  {
   "cell_type": "code",
   "execution_count": 6,
   "id": "719ca40d",
   "metadata": {},
   "outputs": [
    {
     "name": "stdout",
     "output_type": "stream",
     "text": [
      "How many cookies do you produce : 96\n",
      "You need cups of sugar is :  3.0\n",
      "You need cups of butter is :  2.0\n",
      "You need cups of flour is :  5.5\n"
     ]
    }
   ],
   "source": [
    "cookies_produce = input(\"How many cookies do you produce : \");\n",
    "\n",
    "cups_of_sugar = 1.5 / 48;\n",
    "\n",
    "cups_of_butter = 1 / 48;\n",
    "\n",
    "cups_of_flour = 2.75 / 48;\n",
    "\n",
    "print(\"You need cups of sugar is : \", float(cookies_produce) * cups_of_sugar);\n",
    "print(\"You need cups of butter is : \", float(cookies_produce) * cups_of_butter);\n",
    "print(\"You need cups of flour is : \", float(cookies_produce) * cups_of_flour);"
   ]
  },
  {
   "cell_type": "code",
   "execution_count": null,
   "id": "ba21bf1c",
   "metadata": {},
   "outputs": [],
   "source": []
  },
  {
   "cell_type": "code",
   "execution_count": null,
   "id": "1b229e7e",
   "metadata": {},
   "outputs": [],
   "source": []
  },
  {
   "cell_type": "code",
   "execution_count": null,
   "id": "a2257cdd",
   "metadata": {},
   "outputs": [],
   "source": []
  }
 ],
 "metadata": {
  "kernelspec": {
   "display_name": "Python 3",
   "language": "python",
   "name": "python3"
  },
  "language_info": {
   "codemirror_mode": {
    "name": "ipython",
    "version": 3
   },
   "file_extension": ".py",
   "mimetype": "text/x-python",
   "name": "python",
   "nbconvert_exporter": "python",
   "pygments_lexer": "ipython3",
   "version": "3.8.8"
  }
 },
 "nbformat": 4,
 "nbformat_minor": 5
}
