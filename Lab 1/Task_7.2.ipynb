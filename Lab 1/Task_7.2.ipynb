{
 "cells": [
  {
   "cell_type": "code",
   "execution_count": 2,
   "id": "f4e7920e",
   "metadata": {},
   "outputs": [
    {
     "name": "stdout",
     "output_type": "stream",
     "text": [
      "Enter Meal Purchased Price : 89\n",
      "Tip is :  16.02\n",
      "Sales Tax is :  6.23\n",
      "Total Bill is :  111.25\n"
     ]
    }
   ],
   "source": [
    "meal_purchased = input(\"Enter Meal Purchased Price : \");\n",
    "\n",
    "tip_cal = (float(meal_purchased) / 100) * 18;\n",
    "print(\"Tip is : \", tip_cal);\n",
    "\n",
    "sales_tax = (float(meal_purchased) / 100) * 7;\n",
    "print(\"Sales Tax is : \", sales_tax);\n",
    "\n",
    "total_bill = float(meal_purchased) + float(tip_cal) + float(sales_tax);\n",
    "print(\"Total Bill is : \",total_bill);"
   ]
  },
  {
   "cell_type": "code",
   "execution_count": null,
   "id": "6d513e4c",
   "metadata": {},
   "outputs": [],
   "source": []
  },
  {
   "cell_type": "code",
   "execution_count": null,
   "id": "9e35497f",
   "metadata": {},
   "outputs": [],
   "source": []
  }
 ],
 "metadata": {
  "kernelspec": {
   "display_name": "Python 3",
   "language": "python",
   "name": "python3"
  },
  "language_info": {
   "codemirror_mode": {
    "name": "ipython",
    "version": 3
   },
   "file_extension": ".py",
   "mimetype": "text/x-python",
   "name": "python",
   "nbconvert_exporter": "python",
   "pygments_lexer": "ipython3",
   "version": "3.8.8"
  }
 },
 "nbformat": 4,
 "nbformat_minor": 5
}
