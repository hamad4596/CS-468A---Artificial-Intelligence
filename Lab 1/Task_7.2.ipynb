{
 "cells": [
  {
   "cell_type": "markdown",
   "id": "9ab986a1",
   "metadata": {},
   "source": [
    "# 7.2 Tip, Tax and Total\n",
    "\n",
    "Write a program that calculates the total amount of a meal purchased at a restaurant. The program\n",
    "should ask the user to enter the charge for the food, and then calculate the amount of a 18 percent\n",
    "tip and 7 percent sales tax. Display each of these amounts and the total."
   ]
  },
  {
   "cell_type": "code",
   "execution_count": 1,
   "id": "f4e7920e",
   "metadata": {},
   "outputs": [
    {
     "name": "stdout",
     "output_type": "stream",
     "text": [
      "Enter Meal Purchased Price : 600\n",
      "Tip is :  108.0\n",
      "Sales Tax is :  42.0\n",
      "Total Bill is :  750.0\n"
     ]
    }
   ],
   "source": [
    "meal_purchased = input(\"Enter Meal Purchased Price : \");\n",
    "\n",
    "tip_cal = (float(meal_purchased) / 100) * 18;\n",
    "print(\"Tip is : \", tip_cal);\n",
    "\n",
    "sales_tax = (float(meal_purchased) / 100) * 7;\n",
    "print(\"Sales Tax is : \", sales_tax);\n",
    "\n",
    "total_bill = float(meal_purchased) + float(tip_cal) + float(sales_tax);\n",
    "print(\"Total Bill is : \",total_bill);"
   ]
  },
  {
   "cell_type": "code",
   "execution_count": null,
   "id": "339571b4",
   "metadata": {},
   "outputs": [],
   "source": []
  }
 ],
 "metadata": {
  "kernelspec": {
   "display_name": "Python 3",
   "language": "python",
   "name": "python3"
  },
  "language_info": {
   "codemirror_mode": {
    "name": "ipython",
    "version": 3
   },
   "file_extension": ".py",
   "mimetype": "text/x-python",
   "name": "python",
   "nbconvert_exporter": "python",
   "pygments_lexer": "ipython3",
   "version": "3.8.8"
  }
 },
 "nbformat": 4,
 "nbformat_minor": 5
}
