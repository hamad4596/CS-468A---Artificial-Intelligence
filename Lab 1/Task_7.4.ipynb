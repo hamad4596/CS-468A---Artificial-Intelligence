{
 "cells": [
  {
   "cell_type": "code",
   "execution_count": 13,
   "id": "13675f73",
   "metadata": {},
   "outputs": [
    {
     "name": "stdout",
     "output_type": "stream",
     "text": [
      "Enter number of males : 8\n",
      "Enter number of females : 12\n",
      "total Student :  20\n",
      "Male Percentage is :  40.0 %\n",
      "Female Percentage is :  60.0 %\n"
     ]
    }
   ],
   "source": [
    "males = input(\"Enter number of males : \");\n",
    "females = input(\"Enter number of females : \");\n",
    "\n",
    "total_student = int(males) + int(females);\n",
    "print(\"total Student : \",total_student);\n",
    "\n",
    "cal_males = ((int(total_student) - int(females)) / float(total_student)) * 100;\n",
    "print(\"Male Percentage is : \",cal_males,\"%\");\n",
    "\n",
    "cal_females = ((int(total_student) - int(males)) / int(total_student)) * 100;\n",
    "print(\"Female Percentage is : \",cal_females,\"%\");"
   ]
  },
  {
   "cell_type": "code",
   "execution_count": null,
   "id": "ee054ce3",
   "metadata": {},
   "outputs": [],
   "source": []
  }
 ],
 "metadata": {
  "kernelspec": {
   "display_name": "Python 3",
   "language": "python",
   "name": "python3"
  },
  "language_info": {
   "codemirror_mode": {
    "name": "ipython",
    "version": 3
   },
   "file_extension": ".py",
   "mimetype": "text/x-python",
   "name": "python",
   "nbconvert_exporter": "python",
   "pygments_lexer": "ipython3",
   "version": "3.8.8"
  }
 },
 "nbformat": 4,
 "nbformat_minor": 5
}
