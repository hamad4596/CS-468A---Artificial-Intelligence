{
 "cells": [
  {
   "cell_type": "code",
   "execution_count": 8,
   "id": "a357ebd8",
   "metadata": {},
   "outputs": [
    {
     "name": "stdout",
     "output_type": "stream",
     "text": [
      "Joe's shares bought price is :  80000\n",
      "Joe's stockbroker commision when he purchased the stock is :  2400.0\n",
      "Joe's shares sold price is :  84000\n",
      "Joe's stockbroker commision when he sold the stock is :  2520.0\n",
      "Joe's money left after the stockbroker commission is :  79080.0\n",
      "Joe made a profit\n"
     ]
    }
   ],
   "source": [
    "shares_purchased = 2000;\n",
    "purchased_rate = 40;\n",
    "\n",
    "shares_bought_price = int(shares_purchased) * int(purchased_rate);\n",
    "print(\"Joe's shares bought price is : \",shares_bought_price);\n",
    "\n",
    "commission_one = (float(shares_bought_price)/100) * 3;\n",
    "\n",
    "print(\"Joe's stockbroker commision when he purchased the stock is : \", commission_one);\n",
    "\n",
    "sold_rate = 42.75;\n",
    "\n",
    "shares_sold_price = int(shares_purchased) * int(sold_rate);\n",
    "print(\"Joe's shares sold price is : \",shares_sold_price);\n",
    "\n",
    "commisssion_two = (float(shares_sold_price)/100) * 3;\n",
    "\n",
    "print(\"Joe's stockbroker commision when he sold the stock is : \", commisssion_two);\n",
    "\n",
    "left_money = float(shares_sold_price) - commission_one - commisssion_two;\n",
    "\n",
    "print(\"Joe's money left after the stockbroker commission is : \", left_money);\n",
    "\n",
    "if(left_money > 0):\n",
    "\n",
    "    print(\"Joe made a profit\");\n",
    "    \n",
    "else :\n",
    "    \n",
    "    print(\"Joe lost money!\");\n",
    "    \n",
    "\n",
    "\n",
    "\n",
    "\n",
    "\n"
   ]
  },
  {
   "cell_type": "code",
   "execution_count": null,
   "id": "5116c55e",
   "metadata": {},
   "outputs": [],
   "source": []
  }
 ],
 "metadata": {
  "kernelspec": {
   "display_name": "Python 3",
   "language": "python",
   "name": "python3"
  },
  "language_info": {
   "codemirror_mode": {
    "name": "ipython",
    "version": 3
   },
   "file_extension": ".py",
   "mimetype": "text/x-python",
   "name": "python",
   "nbconvert_exporter": "python",
   "pygments_lexer": "ipython3",
   "version": "3.8.8"
  }
 },
 "nbformat": 4,
 "nbformat_minor": 5
}
