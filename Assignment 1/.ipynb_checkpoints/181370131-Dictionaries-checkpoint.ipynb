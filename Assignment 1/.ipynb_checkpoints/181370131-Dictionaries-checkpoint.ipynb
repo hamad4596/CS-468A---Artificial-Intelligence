{
 "cells": [
  {
   "cell_type": "markdown",
   "id": "c7e2fea6",
   "metadata": {},
   "source": [
    "# 3.2 Course information"
   ]
  },
  {
   "cell_type": "markdown",
   "id": "3d8b05a1",
   "metadata": {},
   "source": [
    "# Write a program that creates a dictionary containing course numbers and the room numbers of the rooms where the courses meet. \n",
    "The dictionary should have the following keyvalue pairs:\n",
    "\n",
    "Course Number (key) Room Number (value)\n",
    "            CS101 3004\n",
    "            CS102 4501\n",
    "            CS103 6755\n",
    "            NT110 1244\n",
    "            CM241 1411"
   ]
  },
  {
   "cell_type": "code",
   "execution_count": 2,
   "id": "2e082fb9",
   "metadata": {},
   "outputs": [],
   "source": [
    "course_room = dict()\n",
    "course_room[\"CS101\"] = \"3004\"\n",
    "course_room[\"CS102\"] = \"3004\"\n",
    "course_room[\"CS103\"] = \"3004\"\n",
    "course_room[\"NT110\"] = \"3004\"\n",
    "course_room[\"CM241\"] = \"3004\"\n"
   ]
  },
  {
   "cell_type": "markdown",
   "id": "eda773d8",
   "metadata": {},
   "source": [
    "# #The program should also create a dictionary containing course numbers and the names of the instructors that teach each course. \n",
    "The dictionary should have the following key-value pairs:\n",
    "\n",
    "Course Number (key) Instructor (value)\n",
    "CS101 Haynes\n",
    "CS102 Alvarado\n",
    "CS103 Rich\n",
    "NT110 Burke\n",
    "CM241 Lee "
   ]
  },
  {
   "cell_type": "code",
   "execution_count": 3,
   "id": "e027abc1",
   "metadata": {},
   "outputs": [],
   "source": [
    "course_instructor = dict()\n",
    "course_instructor[\"CS101\"] = \"Haynes\"\n",
    "course_instructor[\"CS102\"] = \"ALvarado\"\n",
    "course_instructor[\"CS103\"] = \"Rich\"\n",
    "course_instructor[\"NT110\"] = \"Burke\"\n",
    "course_instructor[\"CM241\"] = \"Lee\""
   ]
  },
  {
   "cell_type": "markdown",
   "id": "8b9f4afd",
   "metadata": {},
   "source": [
    "# The program should also create a dictionary containing course numbers and the meeting times of each course. \n",
    "The dictionary should have the following key-value pairs:\n",
    "Course Number (key) Meeting Time (value)\n",
    "CS101 8:00 a.m.\n",
    "CS102 9:00 a.m.\n",
    "CS103 10:00 a.m.\n",
    "NT110 11:00 a.m.\n",
    "CM241 1:00 p.m."
   ]
  },
  {
   "cell_type": "code",
   "execution_count": null,
   "id": "f9a40247",
   "metadata": {},
   "outputs": [],
   "source": [
    "course_instructor = dict()\n",
    "course_instructor[\"CS101\"] = \"Haynes\"\n",
    "course_instructor[\"CS102\"] = \"ALvarado\"\n",
    "course_instructor[\"CS103\"] = \"Rich\"\n",
    "course_instructor[\"NT110\"] = \"Burke\"\n",
    "course_instructor[\"CM241\"] = \"Lee\""
   ]
  },
  {
   "cell_type": "markdown",
   "id": "4a16b16c",
   "metadata": {},
   "source": [
    "# 3.1 Capital Quiz"
   ]
  },
  {
   "cell_type": "code",
   "execution_count": 17,
   "id": "21d58448",
   "metadata": {},
   "outputs": [
    {
     "name": "stdout",
     "output_type": "stream",
     "text": [
      "US State is :  Arkansas\n",
      "Enter the State's Capital Name :dnjsndj\n",
      "Ooops! Your Answer is Incorrect.\n",
      "\n",
      "Do You want to Play again! Press Y ... Press N for exit. \n",
      "Press Key : Y\n",
      "\n",
      "\n",
      "US State is :  Alabama\n",
      "Enter the State's Capital Name :ndmsndn\n",
      "Ooops! Your Answer is Incorrect.\n",
      "\n",
      "Do You want to Play again! Press Y ... Press N for exit. \n",
      "Press Key : N\n",
      "\n",
      "\n",
      "Number of correct Responses :  0\n",
      "Number of incorrect Responses :  2\n"
     ]
    }
   ],
   "source": [
    "import random\n",
    "\n",
    "us_state = dict();\n",
    "us_state[\"Alabama\"] = \"Montgomery\"\n",
    "us_state[\"Alaska\"] = \"Juneau\"\n",
    "us_state[\"Arizona\"] = \"Phoenix\"\n",
    "us_state[\"Arkansas\"] = \"Little Rock\"\n",
    "us_state[\"California\"] = \"Sacramento\"\n",
    "us_state[\"Colorado\"] = \"Denver\"\n",
    "us_state[\"Connecticut\"] = \"Hartford\"\n",
    "us_state[\"Montana\"] = \"Helena\"\n",
    "us_state[\"Nebraska\"] = \"Licoln\"\n",
    "us_state[\"Nevada\"] = \"Carson City\"\n",
    "us_state[\"New Hampshire\"] = \"Concord\"\n",
    "us_state[\"New Jersey\"] = \"Trenton\"\n",
    "us_state[\"Delaware\"] = \"Dover\"\n",
    "us_state[\"New Mexico\"] = \"Santa Fe\"\n",
    "us_state[\"New York\"] = \"Albane\"\n",
    "us_state[\"Florida\"] = \"Tallahassee\"\n",
    "us_state[\"Georgia\"] = \"Atlanta\"\n",
    "us_state[\"Hawaii\"] = \"Honolulu\"\n",
    "us_state[\"Idaho\"] = \"Boise\"\n",
    "us_state[\"Illinois\"] = \"Springfield\"\n",
    "us_state[\"Indiana\"] = \"Indianapolis\"\n",
    "us_state[\"Iova\"] = \"Des Moines\"\n",
    "us_state[\"Kansas\"] = \"Topeka\"\n",
    "us_state[\"Kentucky\"] = \"Frankfort\"\n",
    "us_state[\"Louisiana\"] = \"Baton Rouge\"\n",
    "us_state[\"North Carolina\"] = \"Raleigh\"\n",
    "us_state[\"North Dakota\"] = \"Bismarck\"\n",
    "us_state[\"Ohio\"] = \"Columbus\"\n",
    "us_state[\"Oklahoma\"] = \"Oklahoma City\"\n",
    "us_state[\"Oregon\"] = \"Salem\"\n",
    "us_state[\"Pennsylvania\"] = \"Harrisburg\"\n",
    "us_state[\"Rhode Island\"] = \"Providence\"\n",
    "us_state[\"South Carolina\"] = \"Columbia\"\n",
    "us_state[\"South Dakota\"] = \"Pierre\"\n",
    "us_state[\"Tennessee\"] = \"Nashville\"\n",
    "us_state[\"Texas\"] = \"Austin\"\n",
    "us_state[\"Maine\"] = \"Augusta\"\n",
    "us_state[\"Maryland\"] = \"Annapolis\"\n",
    "us_state[\"Massachusetts\"] = \"Boston\"\n",
    "us_state[\"Michigan\"] = \"Lansing\"\n",
    "us_state[\"Minnesota\"] = \"St. Paul\"\n",
    "us_state[\"Mississippi\"] = \"Jackson\"\n",
    "us_state[\"Missouri\"] = \"Jefferson City\"\n",
    "us_state[\"Utah\"] = \"Salt Lake City\"\n",
    "us_state[\"Vermont\"] = \"Montpelier\"\n",
    "us_state[\"Virginia\"] = \"Richmond\"\n",
    "us_state[\"Washington\"] = \"Olympia\"\n",
    "us_state[\"West Virginia\"] = \"Charleston\"\n",
    "us_state[\"Wisconsin\"] = \"Madison\"\n",
    "us_state[\"Wyoming\"] = \"Cheyenne\"\n",
    "\n",
    "correct=0\n",
    "incorrect=0\n",
    "\n",
    "def quiz(correct , incorrect):\n",
    "    state = random.choice(list(us_state.keys()))\n",
    "    print(\"US State is : \",state)\n",
    "    capital = input(\"Enter the State's Capital Name :\")\n",
    "    \n",
    "    if(us_state[str(state)] == capital):\n",
    "        print(\"Your Answer is Correct.\\n\") \n",
    "        correct = correct+1\n",
    "        print(\"Do You want to Play again! Press Y ... Press N for exit. \\n\")\n",
    "        check = input(\"Press Key : \")\n",
    "        print(\"\\n\")\n",
    "    else:\n",
    "        print(\"Ooops! Your Answer is Incorrect.\\n\")\n",
    "        incorrect = incorrect+1\n",
    "        print(\"Do You want to Play again! Press Y ... Press N for exit. \")\n",
    "        check = input(\"Press Key : \")\n",
    "        print(\"\\n\")\n",
    "        \n",
    "    return check , correct , incorrect\n",
    "        \n",
    "check = quiz(correct , incorrect)\n",
    "\n",
    "while(check[0] == 'Y'):\n",
    "    check = quiz(check[1] , check[2])\n",
    "\n",
    "if(check[0] == 'N'):\n",
    "    print(\"Number of correct Responses : \",check[1])\n",
    "    print(\"Number of incorrect Responses : \",check[2])\n"
   ]
  },
  {
   "cell_type": "markdown",
   "id": "8153c276",
   "metadata": {},
   "source": [
    "# 3.4 File Encryption and Decryption\n",
    "Write a program that uses a dictionary to assign “codes” to each letter of the alphabet. For example:\n",
    "\n",
    "codes = { 'A' : '%', 'a' : '9', 'B' : '@', 'b' : '#', etc . . .}\n",
    "\n",
    "Using this example, the letter A would be assigned the symbol %, the letter a would be assigned the number 9, the letter B would be assigned the symbol @, and so forth."
   ]
  },
  {
   "cell_type": "code",
   "execution_count": 53,
   "id": "ce72c0a2",
   "metadata": {},
   "outputs": [],
   "source": [
    "string =\"AaBbCcDdEeFfGgHhIiJjKkLlMmNnOoPpQqRrSsTtUuVvWwXxYyZz\"\n",
    "symbol = \"!@#$%^&*()_+1234567890-=\\|;:'\"\"',<.>/?~` !@#$%^&%$##%w\"\n",
    "codes = dict()\n",
    "\n",
    "for ch in (range(len(string))):\n",
    "    codes[string[ch]] = symbol[ch]\n"
   ]
  },
  {
   "cell_type": "markdown",
   "id": "b24d6aa1",
   "metadata": {},
   "source": [
    "# The program should open a specified text file, read its contents, and then use the dictionary to write an encrypted version of the file’s contents to a second file. Each character in the second file should contain the code for the corresponding character in the first file."
   ]
  },
  {
   "cell_type": "code",
   "execution_count": 54,
   "id": "489fac73",
   "metadata": {},
   "outputs": [],
   "source": [
    "fileName = open(\"specified.txt\")\n",
    "lines = fileName.readlines()\n",
    "\n",
    "fileName2 = open(\"encrypted.txt\" , 'w')\n",
    "\n",
    "for ch in lines:\n",
    "    for c in range(len(ch)-1):\n",
    "        s = ch[c] \n",
    "        fileName2.write(codes[s])\n",
    "    fileName2.write(\"\\n\")\n",
    "    \n",
    "fileName.close()\n",
    "fileName2.close()"
   ]
  },
  {
   "cell_type": "markdown",
   "id": "3240d294",
   "metadata": {},
   "source": [
    "# Write a second program that opens an encrypted file and displays its decrypted contents on the screen."
   ]
  },
  {
   "cell_type": "code",
   "execution_count": 61,
   "id": "64cec988",
   "metadata": {},
   "outputs": [
    {
     "name": "stdout",
     "output_type": "stream",
     "text": [
      "anhjksahjkdbhjAJBshbah\n",
      "hshdsgilOghpiDBDBBBB\n"
     ]
    }
   ],
   "source": [
    "fileName = open(\"encrypted.txt\")\n",
    "lines = fileName.readlines()\n",
    "\n",
    "codes_keys = list(codes.keys())\n",
    "codes_values = list(codes.values())\n",
    "\n",
    "for ch in lines:\n",
    "    f = ''\n",
    "    for c in range(len(ch)-1):\n",
    "        s = ch[c] \n",
    "        values = codes_values.index(s)\n",
    "        f += codes_keys[values]\n",
    "    print(f)"
   ]
  },
  {
   "cell_type": "code",
   "execution_count": null,
   "id": "9165152c",
   "metadata": {},
   "outputs": [],
   "source": []
  }
 ],
 "metadata": {
  "kernelspec": {
   "display_name": "Python 3",
   "language": "python",
   "name": "python3"
  },
  "language_info": {
   "codemirror_mode": {
    "name": "ipython",
    "version": 3
   },
   "file_extension": ".py",
   "mimetype": "text/x-python",
   "name": "python",
   "nbconvert_exporter": "python",
   "pygments_lexer": "ipython3",
   "version": "3.8.8"
  }
 },
 "nbformat": 4,
 "nbformat_minor": 5
}
