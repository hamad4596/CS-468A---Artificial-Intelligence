{
 "cells": [
  {
   "cell_type": "markdown",
   "id": "daa983fd",
   "metadata": {},
   "source": [
    "# \tWrite a function named manhattan_distance to compute Manhattan Distance between two points:\t\n",
    "\n",
    "|x_1-x_2 |+|y_1-y_2 |\n"
   ]
  },
  {
   "cell_type": "code",
   "execution_count": 2,
   "id": "bee64b2f",
   "metadata": {},
   "outputs": [],
   "source": [
    "'''\n",
    "Parameters\n",
    "-------------------\n",
    "x1: float/int\n",
    "    represent the x1 in the function.\n",
    "\n",
    "x2: float/int\n",
    "    represent the x2 in the function.\n",
    "\n",
    "y1: float/int\n",
    "    represent the y1 in the function.\n",
    "\n",
    "y2: float/int\n",
    "    represent the y2 in the function.\n",
    "\n",
    "Return\n",
    "------------------\n",
    "float/int\n",
    "        the method should return the Manhattan Distance\n",
    "        \n",
    "'''\n",
    "\n",
    "def manhattan_distance(x1 , x2 , y1 , y2):\n",
    "    result = abs(x1 - x2) + abs(y1 - y2)\n",
    "    return result"
   ]
  },
  {
   "cell_type": "markdown",
   "id": "cb77a600",
   "metadata": {},
   "source": [
    "# \tWrite a function named euclidian_distance to compute Euclidian Distance between two points: \n",
    "√((x_2-x_1 )^2+(y_2-y_1 )^2 )\n"
   ]
  },
  {
   "cell_type": "code",
   "execution_count": 4,
   "id": "8f71241a",
   "metadata": {},
   "outputs": [],
   "source": [
    "'''\n",
    "Parameters\n",
    "-------------------\n",
    "x1: float/int\n",
    "    represent the x1 in the function.\n",
    "\n",
    "x2: float/int\n",
    "    represent the x2 in the function.\n",
    "\n",
    "y1: float/int\n",
    "    represent the y1 in the function.\n",
    "\n",
    "y2: float/int\n",
    "    represent the y2 in the function.\n",
    "\n",
    "Return\n",
    "------------------\n",
    "float/int\n",
    "        the method should return the Euclidian Distance\n",
    "        \n",
    "'''\n",
    "\n",
    "import math\n",
    "\n",
    "def euclidian_distance(x1 , x2 , y1 , y2):\n",
    "    result = sqrt((x2 - x1)**2 + (y2 - y1)**2)\n",
    "    return result    "
   ]
  },
  {
   "cell_type": "markdown",
   "id": "3bb5757f",
   "metadata": {},
   "source": [
    "# 3.\tPangram string is a string which contains every letter of the alphabet at least once. For example, “The quick brown fox jumps over the lazy dog” is a pangram. Write a function named is_pangram that accepts a string and returns true if the string is pangram otherwise returns false. "
   ]
  },
  {
   "cell_type": "code",
   "execution_count": 15,
   "id": "9e1c6081",
   "metadata": {},
   "outputs": [
    {
     "data": {
      "text/plain": [
       "'String is Pangram'"
      ]
     },
     "execution_count": 15,
     "metadata": {},
     "output_type": "execute_result"
    }
   ],
   "source": [
    "'''\n",
    "Parameters\n",
    "---------------\n",
    "sentence : string\n",
    "        represent the string that contains a sentence.\n",
    "        \n",
    "return\n",
    "---------------\n",
    "string:\n",
    "        the method should return true if the sentence contains all alphabetic \n",
    "        letters and return false if sentence cannot contain any one alphabetic letter.\n",
    "\n",
    "'''\n",
    "\n",
    "\n",
    "def is_pangram(sentence):\n",
    "    alphabetic_list = ['a','b','c','d','e','f','g','h','i','j','k','l','m','n','o','p','q','r','s','t','u','v','w','x','y','z']\n",
    "    \n",
    "    count = 0\n",
    "    result =\"\"\n",
    "    \n",
    "    for ch in alphabetic_list:\n",
    "        if ch in sentence:\n",
    "            count = count+1\n",
    "\n",
    "    if(count == 26):\n",
    "        result = \"String is Pangram\"\n",
    "        \n",
    "    else:\n",
    "        result = \"String is not Pangram\"\n",
    "        \n",
    "    return result\n",
    "\n",
    "is_pangram('the quick brown fox jumps over the lazy dog')"
   ]
  },
  {
   "cell_type": "markdown",
   "id": "c0601518",
   "metadata": {},
   "source": [
    "# 4.\tSuppose that you are working on a financial application for Bank of Gujranwala. The financial application contains a module related to investments and returns. Your project manager assigned you the task of writing this module. For this task, you will write a simple .py file using any editor of your choice. However, Spyder is recommended. Name the file as financemodule.py and place this file in the same directory that contains your notebook. You are required to write the following functions:"
   ]
  },
  {
   "cell_type": "code",
   "execution_count": 24,
   "id": "cff0a746",
   "metadata": {},
   "outputs": [
    {
     "name": "stdout",
     "output_type": "stream",
     "text": [
      "Enter the Balance : 234\n",
      "Enter the Annual Interest Rate : 23\n",
      "Monthly Investment :  4.484999999999999\n"
     ]
    }
   ],
   "source": [
    "import financeModule as fM\n",
    "\n",
    "balance = float(input(\"Enter the Balance : \"))\n",
    "annual_interest_rate = float(input(\"Enter the Annual Interest Rate : \"))\n",
    "\n",
    "monthly_interest_rate = fM.interest_monthly(balance , annual_interest_rate)\n",
    "\n",
    "print(\"Monthly Investment : \",monthly_interest_rate)\n"
   ]
  },
  {
   "cell_type": "code",
   "execution_count": 25,
   "id": "8151611a",
   "metadata": {},
   "outputs": [
    {
     "name": "stdout",
     "output_type": "stream",
     "text": [
      "Enter the investment amount : 234\n",
      "Enter the Monthly Interest Rate : 4.48\n",
      "Enter the number of years : 5\n",
      "Future Investment :  13877137.640986219\n"
     ]
    }
   ],
   "source": [
    "import financeModule as fM\n",
    "\n",
    "investment_amount = float(input(\"Enter the investment amount : \"))\n",
    "monthly_interest_rate = float(input(\"Enter the Monthly Interest Rate : \"))\n",
    "number_of_years = float(input(\"Enter the number of years : \"))\n",
    "future_investment = fM.future_investment_value(investment_amount , monthly_interest_rate , number_of_years)\n",
    "print(\"Future Investment : \",future_investment)"
   ]
  },
  {
   "cell_type": "code",
   "execution_count": null,
   "id": "98a23967",
   "metadata": {},
   "outputs": [],
   "source": []
  }
 ],
 "metadata": {
  "kernelspec": {
   "display_name": "Python 3",
   "language": "python",
   "name": "python3"
  },
  "language_info": {
   "codemirror_mode": {
    "name": "ipython",
    "version": 3
   },
   "file_extension": ".py",
   "mimetype": "text/x-python",
   "name": "python",
   "nbconvert_exporter": "python",
   "pygments_lexer": "ipython3",
   "version": "3.8.8"
  }
 },
 "nbformat": 4,
 "nbformat_minor": 5
}
