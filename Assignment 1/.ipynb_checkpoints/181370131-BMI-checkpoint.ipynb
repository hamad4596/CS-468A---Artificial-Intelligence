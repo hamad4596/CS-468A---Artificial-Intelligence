{
 "cells": [
  {
   "cell_type": "markdown",
   "id": "bbab551d",
   "metadata": {},
   "source": [
    "# 1. You are provided with a file named gym.csv that contains the names, weight, and height (in feet) of gym members. You are required to do the following:"
   ]
  },
  {
   "cell_type": "markdown",
   "id": "1059d1b4",
   "metadata": {},
   "source": [
    "# a. Create four empty lists named: names, height_feet, height_meters, weight"
   ]
  },
  {
   "cell_type": "code",
   "execution_count": 138,
   "id": "76ca8b8b",
   "metadata": {},
   "outputs": [],
   "source": [
    "names = []\n",
    "height_feet = []\n",
    "height_meters = []\n",
    "weight = []"
   ]
  },
  {
   "cell_type": "markdown",
   "id": "6ecf355b",
   "metadata": {},
   "source": [
    "# b. Write a function named feet_to_meter with the following header:\n",
    "\n",
    "def feet_to_meter(height)\n",
    "The above given function takes height in feet and returns the height in meters using the\n",
    "following formula:\n",
    "\n",
    "height_in_meters = height_in_feet * 0.3048\n",
    "Use the function round to round upto 2 decimals. For example, round(1.365487,2)\n",
    "rounds up to 2 decimals."
   ]
  },
  {
   "cell_type": "code",
   "execution_count": 139,
   "id": "2a4d6ad0",
   "metadata": {},
   "outputs": [],
   "source": [
    "def feet_to_meters(height_in_feets):\n",
    "    height_in_meters = height_in_feets * 0.3048\n",
    "    return round(height_in_meters , 2)\n"
   ]
  },
  {
   "cell_type": "markdown",
   "id": "5df73bc8",
   "metadata": {},
   "source": [
    "# c. Write a function named calculate_bmi that accepts two arguments: height (in meters)\n",
    "and weight in kg and returns the BMI using the following formula:\n",
    "Use the function round to round upto 2 decimals. For example, round(1.365487,2)\n",
    "rounds up to 2 decimals."
   ]
  },
  {
   "cell_type": "code",
   "execution_count": 140,
   "id": "be5c70b9",
   "metadata": {},
   "outputs": [],
   "source": [
    "def calculate_bmi(height_in_meters , weight):\n",
    "    bmi = weight / (height_in_meters**2)\n",
    "    return round(bmi , 2)\n"
   ]
  },
  {
   "cell_type": "markdown",
   "id": "d7cf1138",
   "metadata": {},
   "source": [
    "# d. Now, write a function that processes the CSV file. Name the function as process_file.\n",
    "The function has the following header:\n",
    "def process_file(filename, name, weight, height_feet)\n",
    "where name, weight, and height_feet are the lists. This function should read the csv file\n",
    "gym.csv and populates all the three lists respectively using the append method of list."
   ]
  },
  {
   "cell_type": "code",
   "execution_count": 141,
   "id": "81cc2495",
   "metadata": {},
   "outputs": [],
   "source": [
    "names.clear()\n",
    "weight.clear()\n",
    "height_feet.clear()\n",
    "\n",
    "def process_file(filename, name, weight, height_feet):\n",
    "    file = open(filename)\n",
    "    lines = file.readlines()\n",
    "    \n",
    "    for line in lines:  \n",
    "        l = line.replace(\",\" , \"\")\n",
    "        spl = l.split()\n",
    "        name.append(spl[0])\n",
    "        weight.append(spl[1])\n",
    "        height_feet.append(spl[2])\n",
    "\n",
    "    del names[0]\n",
    "    del weight[0]\n",
    "    del height_feet[0]\n",
    "    file.close()    \n",
    "    \n"
   ]
  },
  {
   "cell_type": "markdown",
   "id": "0b678d24",
   "metadata": {},
   "source": [
    "# e. Now, populate the height_meters list using height_feet list. For this, you need to utilize the function created in step b.\n"
   ]
  },
  {
   "cell_type": "code",
   "execution_count": 142,
   "id": "552dba93",
   "metadata": {},
   "outputs": [
    {
     "name": "stdout",
     "output_type": "stream",
     "text": [
      "[1.8, 1.77, 1.77, 1.71, 1.68, 1.22, 1.83, 23.47]\n"
     ]
    }
   ],
   "source": [
    "names.clear()\n",
    "weight.clear()\n",
    "height_feet.clear()\n",
    "height_meters.clear()\n",
    "\n",
    "process_file(\"gym.csv\" , names , weight , height_feet)\n",
    "\n",
    "for ch in height_feet:\n",
    "    convert_values = float(ch)\n",
    "    result = feet_to_meters(convert_values)\n",
    "    height_meters.append(result)\n",
    "\n",
    "print(height_meters)"
   ]
  },
  {
   "cell_type": "markdown",
   "id": "91bf9d75",
   "metadata": {},
   "source": [
    "# f. Now, create an empty list named bmi. Write a loop to calculate bmi for each gym member and append to list bmi."
   ]
  },
  {
   "cell_type": "code",
   "execution_count": 143,
   "id": "8f67039b",
   "metadata": {},
   "outputs": [
    {
     "name": "stdout",
     "output_type": "stream",
     "text": [
      "[25.0, 23.94, 24.58, 24.62, 24.09, 16.12, 26.87, 0.01]\n"
     ]
    }
   ],
   "source": [
    "bmi = []\n",
    "\n",
    "for ch in range(len(names)):\n",
    "    result = calculate_bmi(float(height_meters[ch]) , float(weight[ch]))\n",
    "    bmi.append(result)\n",
    "    \n",
    "print(bmi)"
   ]
  },
  {
   "cell_type": "markdown",
   "id": "68c79d49",
   "metadata": {},
   "source": [
    "# g. Now, create a function named write_to_file that accepts two arguments names list and\n",
    "bmi list. This function should write the name and bmi of each member to a file named\n",
    "bmi_output.txt in the following format:"
   ]
  },
  {
   "cell_type": "code",
   "execution_count": 149,
   "id": "fe8c7e0a",
   "metadata": {},
   "outputs": [],
   "source": [
    "def write_to_file(name , bmi):\n",
    "    \n",
    "    fileName = open(\"bmi.txt\" , \"w\")\n",
    "    fileName.write(\"Name         BMI\\n\\n\")\n",
    "    \n",
    "    for i , j in zip(names , bmi):\n",
    "        fileName.write(i)\n",
    "        fileName.write(str(j).center(20))\n",
    "        fileName.write(\"\\n\")\n",
    "    \n",
    "    fileName.close\n",
    "    \n",
    "write_to_file(names , bmi)    "
   ]
  },
  {
   "cell_type": "code",
   "execution_count": null,
   "id": "18f8d9a2",
   "metadata": {},
   "outputs": [],
   "source": []
  }
 ],
 "metadata": {
  "kernelspec": {
   "display_name": "Python 3",
   "language": "python",
   "name": "python3"
  },
  "language_info": {
   "codemirror_mode": {
    "name": "ipython",
    "version": 3
   },
   "file_extension": ".py",
   "mimetype": "text/x-python",
   "name": "python",
   "nbconvert_exporter": "python",
   "pygments_lexer": "ipython3",
   "version": "3.8.8"
  }
 },
 "nbformat": 4,
 "nbformat_minor": 5
}
