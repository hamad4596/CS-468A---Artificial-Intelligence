{
 "cells": [
  {
   "cell_type": "markdown",
   "id": "c3219d86",
   "metadata": {},
   "source": [
    "# 1. Consider the string\n",
    "String = “Hum honge kamyab, hum honge kamyab aik din”\n",
    "NOTE: Use slicing, indexing techniques and built-in functions.\n",
    "Write Python statements to perform following:\n"
   ]
  },
  {
   "cell_type": "markdown",
   "id": "805216a7",
   "metadata": {},
   "source": [
    "# a. Print , "
   ]
  },
  {
   "cell_type": "code",
   "execution_count": 2,
   "id": "adb90676",
   "metadata": {},
   "outputs": [
    {
     "name": "stdout",
     "output_type": "stream",
     "text": [
      "Hum honge kamyab, hum honge kamyab aik din\n"
     ]
    }
   ],
   "source": [
    "string = \"Hum honge kamyab, hum honge kamyab aik din\"\n",
    "print(string)"
   ]
  },
  {
   "cell_type": "markdown",
   "id": "d159819d",
   "metadata": {},
   "source": [
    "# b. Print substring ‘aik din’"
   ]
  },
  {
   "cell_type": "code",
   "execution_count": 2,
   "id": "2fc263b6",
   "metadata": {},
   "outputs": [
    {
     "name": "stdout",
     "output_type": "stream",
     "text": [
      "aik din\n"
     ]
    }
   ],
   "source": [
    "print(string[35:])"
   ]
  },
  {
   "cell_type": "markdown",
   "id": "60610f79",
   "metadata": {},
   "source": [
    "# c. Print ‘honge kamyab’"
   ]
  },
  {
   "cell_type": "code",
   "execution_count": 3,
   "id": "01ade380",
   "metadata": {},
   "outputs": [
    {
     "name": "stdout",
     "output_type": "stream",
     "text": [
      "honge kamyab\n"
     ]
    }
   ],
   "source": [
    "print(string[4:16])"
   ]
  },
  {
   "cell_type": "markdown",
   "id": "cb9f7f1d",
   "metadata": {},
   "source": [
    "# d. Find and print the index of ‘hum’"
   ]
  },
  {
   "cell_type": "code",
   "execution_count": 4,
   "id": "6e87d627",
   "metadata": {},
   "outputs": [
    {
     "name": "stdout",
     "output_type": "stream",
     "text": [
      "Word is :  hum  & Index is :  3\n"
     ]
    }
   ],
   "source": [
    "word_list = string.split();\n",
    "\n",
    "for ch in range(len(word_list)):\n",
    "    if \"hum\" in word_list[ch]:\n",
    "        print(\"Word is : \",word_list[ch] , \" & Index is : \", ch)"
   ]
  },
  {
   "cell_type": "markdown",
   "id": "5ff79fcd",
   "metadata": {},
   "source": [
    "# e. Prints the number of occurrences of hum"
   ]
  },
  {
   "cell_type": "code",
   "execution_count": 5,
   "id": "aea73a73",
   "metadata": {},
   "outputs": [
    {
     "name": "stdout",
     "output_type": "stream",
     "text": [
      "Occurence of hum is :  1\n"
     ]
    }
   ],
   "source": [
    "word_list = string.split();\n",
    "print(\"Occurence of hum is : \",word_list.count(\"hum\"))"
   ]
  },
  {
   "cell_type": "markdown",
   "id": "ca7c5816",
   "metadata": {},
   "source": [
    "# f. Checks the membership of “LALALA”"
   ]
  },
  {
   "cell_type": "code",
   "execution_count": 6,
   "id": "153d43af",
   "metadata": {},
   "outputs": [
    {
     "name": "stdout",
     "output_type": "stream",
     "text": [
      "LALALA is not Found\n"
     ]
    }
   ],
   "source": [
    "if \"LALALA\" in word_list:\n",
    "    print(\"LALALA is Found\");\n",
    "else:\n",
    "    print(\"LALALA is not Found\")"
   ]
  },
  {
   "cell_type": "markdown",
   "id": "2bc6d067",
   "metadata": {},
   "source": [
    "# g. Checks the membership of “,”"
   ]
  },
  {
   "cell_type": "code",
   "execution_count": 7,
   "id": "ab7a51c6",
   "metadata": {},
   "outputs": [
    {
     "name": "stdout",
     "output_type": "stream",
     "text": [
      " , is found\n"
     ]
    }
   ],
   "source": [
    "if \",\" in string:\n",
    "    print(\" , is found\")\n",
    "else:\n",
    "    print(\"Not Found\")"
   ]
  },
  {
   "cell_type": "markdown",
   "id": "d15c6ea7",
   "metadata": {},
   "source": [
    "# h. Checks if “KAMYAB” not present in String."
   ]
  },
  {
   "cell_type": "code",
   "execution_count": 8,
   "id": "6474ed90",
   "metadata": {},
   "outputs": [
    {
     "name": "stdout",
     "output_type": "stream",
     "text": [
      "Not Found\n"
     ]
    }
   ],
   "source": [
    "if \"KAMYAB\" not in string:\n",
    "    print(\"Not Found\")"
   ]
  },
  {
   "cell_type": "markdown",
   "id": "3768301c",
   "metadata": {},
   "source": [
    "# j. Prints ‘kamyab’ using negative indexes."
   ]
  },
  {
   "cell_type": "code",
   "execution_count": 9,
   "id": "ae32a259",
   "metadata": {},
   "outputs": [
    {
     "name": "stdout",
     "output_type": "stream",
     "text": [
      " kamyab\n"
     ]
    }
   ],
   "source": [
    "print(string[-15:-8])"
   ]
  },
  {
   "cell_type": "markdown",
   "id": "363b1adb",
   "metadata": {},
   "source": [
    "# i. Prints ‘aik din’"
   ]
  },
  {
   "cell_type": "code",
   "execution_count": 3,
   "id": "b064c939",
   "metadata": {},
   "outputs": [
    {
     "name": "stdout",
     "output_type": "stream",
     "text": [
      "aik din\n"
     ]
    }
   ],
   "source": [
    "print(string[-7:len(string)])"
   ]
  },
  {
   "cell_type": "markdown",
   "id": "f0e5edfc",
   "metadata": {},
   "source": [
    "# 2. Consider the string\n",
    "Message = “Boom: SanDisk just dropped the world’s largest SD card”\n",
    "Write Python statements to perform following: [5]\n",
    "NOTE: Use slicing, indexing techniques and built-in functions."
   ]
  },
  {
   "cell_type": "markdown",
   "id": "3bef143d",
   "metadata": {},
   "source": [
    "# a. Creates a new string named copyMessage using slicing technique."
   ]
  },
  {
   "cell_type": "code",
   "execution_count": 10,
   "id": "218a6260",
   "metadata": {},
   "outputs": [
    {
     "name": "stdout",
     "output_type": "stream",
     "text": [
      "Boom: SanDisk just dropped the world’s largest SD card\n"
     ]
    }
   ],
   "source": [
    "message = \"Boom: SanDisk just dropped the world’s largest SD card\"\n",
    "\n",
    "copyMessage = message[:]\n",
    "print(copyMessage)"
   ]
  },
  {
   "cell_type": "markdown",
   "id": "f51446e0",
   "metadata": {},
   "source": [
    "# b. Find the length of the substring starting with S and ending with k without calculating indexes yourself.\n"
   ]
  },
  {
   "cell_type": "code",
   "execution_count": 38,
   "id": "e97263ef",
   "metadata": {},
   "outputs": [
    {
     "ename": "TypeError",
     "evalue": "slice indices must be integers or None or have an __index__ method",
     "output_type": "error",
     "traceback": [
      "\u001b[1;31m---------------------------------------------------------------------------\u001b[0m",
      "\u001b[1;31mTypeError\u001b[0m                                 Traceback (most recent call last)",
      "\u001b[1;32m<ipython-input-38-bae739fb141a>\u001b[0m in \u001b[0;36m<module>\u001b[1;34m\u001b[0m\n\u001b[1;32m----> 1\u001b[1;33m \u001b[0msub_str\u001b[0m \u001b[1;33m=\u001b[0m \u001b[0mmessage\u001b[0m\u001b[1;33m[\u001b[0m\u001b[1;34m\"S\"\u001b[0m\u001b[1;33m:\u001b[0m\u001b[1;34m\"k\"\u001b[0m\u001b[1;33m]\u001b[0m\u001b[1;33m\u001b[0m\u001b[1;33m\u001b[0m\u001b[0m\n\u001b[0m\u001b[0;32m      2\u001b[0m \u001b[0mprint\u001b[0m\u001b[1;33m(\u001b[0m\u001b[1;34m\"Length of a substring is : \"\u001b[0m\u001b[1;33m,\u001b[0m \u001b[0mlen\u001b[0m\u001b[1;33m(\u001b[0m\u001b[0msub_str\u001b[0m\u001b[1;33m)\u001b[0m\u001b[1;33m)\u001b[0m\u001b[1;33m\u001b[0m\u001b[1;33m\u001b[0m\u001b[0m\n",
      "\u001b[1;31mTypeError\u001b[0m: slice indices must be integers or None or have an __index__ method"
     ]
    }
   ],
   "source": [
    "sub_str = message[\"S\":\"k\"]\n",
    "print(\"Length of a substring is : \", len(sub_str))"
   ]
  },
  {
   "cell_type": "markdown",
   "id": "76fde91d",
   "metadata": {},
   "source": [
    "# c. Find the length of substring “SD card” using slicing."
   ]
  },
  {
   "cell_type": "code",
   "execution_count": 20,
   "id": "b9cf27b7",
   "metadata": {},
   "outputs": [
    {
     "name": "stdout",
     "output_type": "stream",
     "text": [
      "Length of Sub STring SD Card is :  7\n"
     ]
    }
   ],
   "source": [
    "for ch in range(len(message)):\n",
    "    if \"S\" in message[ch] and 'D' in message[ch+1]:\n",
    "        print(\"Length of Sub STring SD Card is : \",len(message[ch:]))"
   ]
  },
  {
   "cell_type": "markdown",
   "id": "0b86f86c",
   "metadata": {},
   "source": [
    "# d. Store the result of membership check of substring “LA” in memCheck."
   ]
  },
  {
   "cell_type": "code",
   "execution_count": 24,
   "id": "0bedda59",
   "metadata": {},
   "outputs": [],
   "source": [
    "for ch in range(len(message)):\n",
    "    if 'L' in message[ch] and 'A' in message[ch+1]:\n",
    "        memCheck = 'true'\n",
    "        "
   ]
  },
  {
   "cell_type": "markdown",
   "id": "455a7f62",
   "metadata": {},
   "source": [
    "# e. Create a new string from above string of width 100 with text centered and name it as newMessage.\n"
   ]
  },
  {
   "cell_type": "code",
   "execution_count": 28,
   "id": "9e524144",
   "metadata": {},
   "outputs": [
    {
     "name": "stdout",
     "output_type": "stream",
     "text": [
      "                       Boom: SanDisk just dropped the world’s largest SD card                       \n"
     ]
    }
   ],
   "source": [
    "newMessage = message.center(100,\" \")\n",
    "print(newMessage)"
   ]
  },
  {
   "cell_type": "markdown",
   "id": "4698a94f",
   "metadata": {},
   "source": [
    "# f. Create another new string from above string of width 100 and empty spaces filled by character *. Name the string as newMessage2.\n"
   ]
  },
  {
   "cell_type": "code",
   "execution_count": 29,
   "id": "73b176e0",
   "metadata": {},
   "outputs": [
    {
     "name": "stdout",
     "output_type": "stream",
     "text": [
      "***********************Boom: SanDisk just dropped the world’s largest SD card***********************\n"
     ]
    }
   ],
   "source": [
    "newMessgae2 = message.center(100,\"*\")\n",
    "print(newMessgae2)"
   ]
  },
  {
   "cell_type": "markdown",
   "id": "3513ceda",
   "metadata": {},
   "source": [
    "# g. Checks if the string from index 14 to 17 finishes with the word “ped”. Store result in a new variable named suffixCheck. Print its value.\n"
   ]
  },
  {
   "cell_type": "code",
   "execution_count": 36,
   "id": "a00c266f",
   "metadata": {},
   "outputs": [
    {
     "name": "stdout",
     "output_type": "stream",
     "text": [
      "Suffix Check is false\n"
     ]
    }
   ],
   "source": [
    "suffixCheck = ''\n",
    "if 'ped' in message[14:17]:\n",
    "    suffixCheck = \"true\"\n",
    "else:\n",
    "    suffixCheck = 'false'\n",
    "\n",
    "print(\"Suffix Check is {}\".format(suffixCheck))\n",
    "    "
   ]
  },
  {
   "cell_type": "markdown",
   "id": "9d441172",
   "metadata": {},
   "source": [
    "# Checks the membership of “1 TB” in string. Stores the result in a variable named membershipCheck. Print it.\n"
   ]
  },
  {
   "cell_type": "code",
   "execution_count": 38,
   "id": "b0143249",
   "metadata": {},
   "outputs": [
    {
     "name": "stdout",
     "output_type": "stream",
     "text": [
      "Membership Check is false\n"
     ]
    }
   ],
   "source": [
    "membershipCheck = ''\n",
    "if '1 TB' in message[0:]:\n",
    "    membershipCheck = \"true\"\n",
    "else:\n",
    "    membershipCheck = 'false'\n",
    "\n",
    "print(\"Membership Check is {}\".format(membershipCheck))"
   ]
  },
  {
   "cell_type": "markdown",
   "id": "37919d0d",
   "metadata": {},
   "source": [
    "# Creates a new string named randomString. This string should start from of the half of original string and ends after 10 more indexes.\n"
   ]
  },
  {
   "cell_type": "code",
   "execution_count": 45,
   "id": "9a2ddcc2",
   "metadata": {},
   "outputs": [
    {
     "name": "stdout",
     "output_type": "stream",
     "text": [
      "Random String is :  the world’s\n"
     ]
    }
   ],
   "source": [
    "randomString = ''\n",
    "size = len(message)//2\n",
    "\n",
    "for ch in range(size , size+11):\n",
    "    randomString += message[ch]\n",
    "    \n",
    "print(\"Random String is : \", randomString)"
   ]
  },
  {
   "cell_type": "markdown",
   "id": "c1712557",
   "metadata": {},
   "source": [
    "# j. Create a new string name anotherString of length twice the length of original string and empty spaces filled with *.\n"
   ]
  },
  {
   "cell_type": "code",
   "execution_count": 50,
   "id": "b96f17b6",
   "metadata": {},
   "outputs": [
    {
     "name": "stdout",
     "output_type": "stream",
     "text": [
      "Boom:*SanDisk*just*dropped*the*world’s*largest*SD*cardBoom:*SanDisk*just*dropped*the*world’s*largest*SD*card\n"
     ]
    }
   ],
   "source": [
    "anotherString = message*2\n",
    "\n",
    "print(anotherString.replace(\" \" , \"*\"))"
   ]
  }
 ],
 "metadata": {
  "kernelspec": {
   "display_name": "Python 3",
   "language": "python",
   "name": "python3"
  },
  "language_info": {
   "codemirror_mode": {
    "name": "ipython",
    "version": 3
   },
   "file_extension": ".py",
   "mimetype": "text/x-python",
   "name": "python",
   "nbconvert_exporter": "python",
   "pygments_lexer": "ipython3",
   "version": "3.8.8"
  }
 },
 "nbformat": 4,
 "nbformat_minor": 5
}
