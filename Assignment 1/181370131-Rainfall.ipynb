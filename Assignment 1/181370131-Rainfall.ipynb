{
 "cells": [
  {
   "cell_type": "markdown",
   "id": "fa0045ad",
   "metadata": {},
   "source": [
    "# The file rainfall.csv contains the rainfall data of Pakistan data for each month from year 1991 to 2020. You are required to read the file and perform the following:"
   ]
  },
  {
   "cell_type": "markdown",
   "id": "05d2a5bd",
   "metadata": {},
   "source": [
    "# a.\tCalculate average rainfall for each year."
   ]
  },
  {
   "cell_type": "code",
   "execution_count": 41,
   "id": "d402b695",
   "metadata": {},
   "outputs": [
    {
     "name": "stdout",
     "output_type": "stream",
     "text": [
      "Average Rainfall For this Year  1991 is :   261.79999999999995\n",
      "Average Rainfall For this Year  1992 is :   354.20000000000005\n",
      "Average Rainfall For this Year  1993 is :   234.70000000000002\n",
      "Average Rainfall For this Year  1994 is :   381.4000000000001\n",
      "Average Rainfall For this Year  1995 is :   350.5\n",
      "Average Rainfall For this Year  1996 is :   335.90000000000003\n",
      "Average Rainfall For this Year  1997 is :   338.2\n",
      "Average Rainfall For this Year  1998 is :   283.0\n",
      "Average Rainfall For this Year  1999 is :   232.60000000000002\n",
      "Average Rainfall For this Year  2000 is :   210.70000000000002\n",
      "Average Rainfall For this Year  2001 is :   243.39999999999998\n",
      "Average Rainfall For this Year  2002 is :   214.70000000000002\n",
      "Average Rainfall For this Year  2003 is :   370.1\n",
      "Average Rainfall For this Year  2004 is :   253.99999999999997\n",
      "Average Rainfall For this Year  2005 is :   326.9\n",
      "Average Rainfall For this Year  2006 is :   363.9\n",
      "Average Rainfall For this Year  2007 is :   312.50000000000006\n",
      "Average Rainfall For this Year  2008 is :   335.1\n",
      "Average Rainfall For this Year  2009 is :   283.3\n",
      "Average Rainfall For this Year  2010 is :   398.20000000000005\n",
      "Average Rainfall For this Year  2011 is :   323.2\n",
      "Average Rainfall For this Year  2012 is :   264.9\n",
      "Average Rainfall For this Year  2013 is :   347.99999999999994\n",
      "Average Rainfall For this Year  2014 is :   251.50000000000003\n",
      "Average Rainfall For this Year  2015 is :   405.9\n",
      "Average Rainfall For this Year  2016 is :   293.9\n",
      "Average Rainfall For this Year  2017 is :   278.8\n",
      "Average Rainfall For this Year  2018 is :   196.1\n",
      "Average Rainfall For this Year  2019 is :   372.20000000000005\n",
      "Average Rainfall For this Year  2020 is :   401.70000000000005\n"
     ]
    }
   ],
   "source": [
    "fileName = open(\"rainfall.csv\")\n",
    "lines = fileName.readlines()\n",
    "\n",
    "i = 1991\n",
    "j = 1\n",
    "sum = 0\n",
    "year = []\n",
    "rain = []\n",
    "    \n",
    "while(i < 2021): \n",
    "    for line in lines:\n",
    "        line = line.replace(\",\" , \" \")\n",
    "        spl = line.split()\n",
    "        \n",
    "        if(spl[1] == str(i)):\n",
    "            sum = sum+float(spl[0]) \n",
    "        \n",
    "        \n",
    "    print(\"Average Rainfall For this Year  {} is :   {}\".format(i,sum))\n",
    "    year.append(i)\n",
    "    rain.append(sum)\n",
    "    i = i+1\n",
    "    sum = 0\n",
    "    \n",
    "    \n",
    "\n",
    "fileName.close()\n",
    "\n"
   ]
  },
  {
   "cell_type": "markdown",
   "id": "8421a6c7",
   "metadata": {},
   "source": [
    "# b.\tWrite the average rainfall of each year to file named rain-average.txt in the following format:"
   ]
  },
  {
   "cell_type": "code",
   "execution_count": 44,
   "id": "039ece55",
   "metadata": {},
   "outputs": [],
   "source": [
    "fileName = open(\"rainAverage.txt\" , 'w')\n",
    "fileName.write(\"Year         Average Rainfall(mm)\\n\\n\")\n",
    "\n",
    "for i , j in zip(year , rain):\n",
    "    fileName.write(str(i))\n",
    "    fileName.write(\"         \")\n",
    "    fileName.write(str(j))\n",
    "    fileName.write(\"\\n\")\n",
    "\n",
    "fileName.close()"
   ]
  },
  {
   "cell_type": "code",
   "execution_count": null,
   "id": "35c33c1d",
   "metadata": {},
   "outputs": [],
   "source": []
  }
 ],
 "metadata": {
  "kernelspec": {
   "display_name": "Python 3",
   "language": "python",
   "name": "python3"
  },
  "language_info": {
   "codemirror_mode": {
    "name": "ipython",
    "version": 3
   },
   "file_extension": ".py",
   "mimetype": "text/x-python",
   "name": "python",
   "nbconvert_exporter": "python",
   "pygments_lexer": "ipython3",
   "version": "3.8.8"
  }
 },
 "nbformat": 4,
 "nbformat_minor": 5
}
